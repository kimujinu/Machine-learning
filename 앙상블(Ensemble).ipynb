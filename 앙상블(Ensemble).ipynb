{
  "nbformat": 4,
  "nbformat_minor": 0,
  "metadata": {
    "colab": {
      "name": "앙상블(Ensemble).ipynb",
      "provenance": [],
      "collapsed_sections": [],
      "include_colab_link": true
    },
    "kernelspec": {
      "name": "python3",
      "display_name": "Python 3"
    }
  },
  "cells": [
    {
      "cell_type": "markdown",
      "metadata": {
        "id": "view-in-github",
        "colab_type": "text"
      },
      "source": [
        "<a href=\"https://colab.research.google.com/github/kimujinu/Machine-learning/blob/main/%EC%95%99%EC%83%81%EB%B8%94(Ensemble).ipynb\" target=\"_parent\"><img src=\"https://colab.research.google.com/assets/colab-badge.svg\" alt=\"Open In Colab\"/></a>"
      ]
    },
    {
      "cell_type": "markdown",
      "metadata": {
        "id": "b2MQEkXAYQeB"
      },
      "source": [
        "# 앙상블(Ensemble)\n",
        "\n",
        "* 일반화와 강건성(Robustness)을 향상시키기 위해 여러 모델의 예측 값을 결합하는 방법\n",
        "* 앙상블에는 크게 두가지 종류가 존재\n",
        "  * 평균 방법\n",
        "    * 여러개의 추정값을 독립적으로 구한뒤 평균을 취함\n",
        "    * 결합 추정값은 분산이 줄어들기 때문에 단일 추정값보다 좋은 성능을 보임\n",
        "  * 부스팅 방법\n",
        "    * 순차적으로 모델 생성\n",
        "    * 결합된 모델의 편향을 감소 시키기 위해 노력\n",
        "    * 부스팅 방법의 목표는 여러개의 약한 모델들을 결합해 하나의 강력한 앙상블 모델을 구축하는 것"
      ]
    },
    {
      "cell_type": "markdown",
      "metadata": {
        "id": "nT_iMqd0do5N"
      },
      "source": [
        "## Bagging meta-estimator\n",
        "\n",
        "* bagging은 bootstrap aggregating의 줄임말\n",
        "* 원래 훈련 데이터셋의 일부를 사용해 여러 모델을 훈련\n",
        "* 각각의 결과를 결합해 최종 결과를 생성\n",
        "* 분산을 줄이고 과적합을 막음\n",
        "* 강력하고 복잡한 모델에서 잘 동작"
      ]
    },
    {
      "cell_type": "code",
      "metadata": {
        "id": "DeBq-DEl4Mxc"
      },
      "source": [
        "from sklearn.datasets import load_iris,load_wine,load_breast_cancer,load_diabetes,load_boston\n",
        "from sklearn.preprocessing import StandardScaler\n",
        "from sklearn.pipeline import make_pipeline\n",
        "from sklearn.model_selection import cross_validate"
      ],
      "execution_count": 44,
      "outputs": []
    },
    {
      "cell_type": "code",
      "metadata": {
        "id": "sJK4QMLlYN3G"
      },
      "source": [
        "from sklearn.ensemble import BaggingClassifier\n",
        "from sklearn.neighbors import KNeighborsClassifier\n",
        "from sklearn.svm import SVC\n",
        "from sklearn.tree import DecisionTreeClassifier"
      ],
      "execution_count": 5,
      "outputs": []
    },
    {
      "cell_type": "code",
      "metadata": {
        "id": "Z9EBwVN94ZMN"
      },
      "source": [
        "from sklearn.ensemble import BaggingRegressor\n",
        "from sklearn.neighbors import KNeighborsRegressor\n",
        "from sklearn.svm import SVR\n",
        "from sklearn.tree import DecisionTreeRegressor"
      ],
      "execution_count": 6,
      "outputs": []
    },
    {
      "cell_type": "markdown",
      "metadata": {
        "id": "bnC_CfiDf3kC"
      },
      "source": [
        "### Bagging을 사용한 분류"
      ]
    },
    {
      "cell_type": "markdown",
      "metadata": {
        "id": "yw2FY84r4zQR"
      },
      "source": [
        "#### 데이터셋 불러오기"
      ]
    },
    {
      "cell_type": "code",
      "metadata": {
        "id": "6DlynlPmf-3Y"
      },
      "source": [
        "iris = load_iris()\n",
        "wine = load_wine()\n",
        "cancer = load_breast_cancer()"
      ],
      "execution_count": 8,
      "outputs": []
    },
    {
      "cell_type": "markdown",
      "metadata": {
        "id": "9XzfsGdL4_YF"
      },
      "source": [
        "#### KNN"
      ]
    },
    {
      "cell_type": "markdown",
      "metadata": {
        "id": "h5TYJLtQ8k70"
      },
      "source": [
        "##### 붓꽃 데이터"
      ]
    },
    {
      "cell_type": "code",
      "metadata": {
        "id": "vqMhwq26gIl9"
      },
      "source": [
        "base_model = make_pipeline(\n",
        "    StandardScaler(),\n",
        "    KNeighborsClassifier()\n",
        ")\n",
        "\n",
        "bagging_model = BaggingClassifier(base_model,n_estimators=10,max_samples=0.5,max_features=0.5)"
      ],
      "execution_count": 9,
      "outputs": []
    },
    {
      "cell_type": "code",
      "metadata": {
        "id": "m-fGDZoD52eY",
        "colab": {
          "base_uri": "https://localhost:8080/"
        },
        "outputId": "656f1ff4-9115-4121-bd0f-0ead0ebba165"
      },
      "source": [
        "cross_val = cross_validate(\n",
        "    estimator=base_model,\n",
        "    X=iris.data,y=iris.target,\n",
        "    cv=5\n",
        ")\n",
        "\n",
        "print('avg fit time: {} (+/- {})'.format(cross_val['fit_time'].mean(),cross_val['fit_time'].std()))\n",
        "print('avg score time: {} (+/- {})'.format(cross_val['score_time'].mean(),cross_val['score_time'].std()))\n",
        "print('avg test score: {} (+/- {})'.format(cross_val['test_score'].mean(),cross_val['test_score'].std()))"
      ],
      "execution_count": 14,
      "outputs": [
        {
          "output_type": "stream",
          "name": "stdout",
          "text": [
            "avg fit time: 0.0020646095275878907 (+/- 0.00022985888595739536)\n",
            "avg score time: 0.0032362937927246094 (+/- 0.00024327052307247153)\n",
            "avg test score: 0.96 (+/- 0.024944382578492935)\n"
          ]
        }
      ]
    },
    {
      "cell_type": "code",
      "metadata": {
        "id": "j8UhV67NgiC0",
        "colab": {
          "base_uri": "https://localhost:8080/"
        },
        "outputId": "470fd8b8-f1fb-4974-f494-a6a3a5534bdf"
      },
      "source": [
        "cross_val = cross_validate(\n",
        "    estimator=bagging_model,\n",
        "    X=iris.data,y=iris.target,\n",
        "    cv=5\n",
        ")\n",
        "\n",
        "print('avg fit time: {} (+/- {})'.format(cross_val['fit_time'].mean(),cross_val['fit_time'].std()))\n",
        "print('avg score time: {} (+/- {})'.format(cross_val['score_time'].mean(),cross_val['score_time'].std()))\n",
        "print('avg test score: {} (+/- {})'.format(cross_val['test_score'].mean(),cross_val['test_score'].std()))"
      ],
      "execution_count": 15,
      "outputs": [
        {
          "output_type": "stream",
          "name": "stdout",
          "text": [
            "avg fit time: 0.024142026901245117 (+/- 0.0036438528394420145)\n",
            "avg score time: 0.00873265266418457 (+/- 0.0012400021494611035)\n",
            "avg test score: 0.9533333333333334 (+/- 0.02666666666666666)\n"
          ]
        }
      ]
    },
    {
      "cell_type": "markdown",
      "metadata": {
        "id": "aake5r8-_FLh"
      },
      "source": [
        "##### 와인 데이터"
      ]
    },
    {
      "cell_type": "code",
      "metadata": {
        "id": "kSNvIhxp_FLl"
      },
      "source": [
        "base_model = make_pipeline(\n",
        "    StandardScaler(),\n",
        "    KNeighborsClassifier()\n",
        ")\n",
        "\n",
        "bagging_model = BaggingClassifier(base_model,n_estimators=10,max_samples=0.5,max_features=0.5)"
      ],
      "execution_count": null,
      "outputs": []
    },
    {
      "cell_type": "code",
      "metadata": {
        "id": "_gyzWbDi_FLt",
        "colab": {
          "base_uri": "https://localhost:8080/"
        },
        "outputId": "888623be-1952-4293-c9d5-66c87415cc93"
      },
      "source": [
        "cross_val = cross_validate(\n",
        "    estimator=base_model,\n",
        "    X=wine.data,y=wine.target,\n",
        "    cv=5\n",
        ")\n",
        "\n",
        "print('avg fit time: {} (+/- {})'.format(cross_val['fit_time'].mean(),cross_val['fit_time'].std()))\n",
        "print('avg score time: {} (+/- {})'.format(cross_val['score_time'].mean(),cross_val['score_time'].std()))\n",
        "print('avg test score: {} (+/- {})'.format(cross_val['test_score'].mean(),cross_val['test_score'].std()))"
      ],
      "execution_count": 17,
      "outputs": [
        {
          "output_type": "stream",
          "name": "stdout",
          "text": [
            "avg fit time: 0.0017822265625 (+/- 0.0007095005459631991)\n",
            "avg score time: 0.0028139591217041016 (+/- 0.0008411686242818977)\n",
            "avg test score: 0.9493650793650794 (+/- 0.037910929811115976)\n"
          ]
        }
      ]
    },
    {
      "cell_type": "code",
      "metadata": {
        "id": "omJWcpZ0_FLx",
        "colab": {
          "base_uri": "https://localhost:8080/"
        },
        "outputId": "176b48c7-b9de-441f-9a5c-adbf24e1d383"
      },
      "source": [
        "cross_val = cross_validate(\n",
        "    estimator=bagging_model,\n",
        "    X=wine.data,y=wine.target,\n",
        "    cv=5\n",
        ")\n",
        "\n",
        "print('avg fit time: {} (+/- {})'.format(cross_val['fit_time'].mean(),cross_val['fit_time'].std()))\n",
        "print('avg score time: {} (+/- {})'.format(cross_val['score_time'].mean(),cross_val['score_time'].std()))\n",
        "print('avg test score: {} (+/- {})'.format(cross_val['test_score'].mean(),cross_val['test_score'].std()))"
      ],
      "execution_count": 18,
      "outputs": [
        {
          "output_type": "stream",
          "name": "stdout",
          "text": [
            "avg fit time: 0.03994808197021484 (+/- 0.010212427473825659)\n",
            "avg score time: 0.01268768310546875 (+/- 0.0020559281461878455)\n",
            "avg test score: 0.9550793650793651 (+/- 0.0136876578649588)\n"
          ]
        }
      ]
    },
    {
      "cell_type": "markdown",
      "metadata": {
        "id": "iPKP6KIy8nso"
      },
      "source": [
        "##### 유방암 데이터"
      ]
    },
    {
      "cell_type": "code",
      "metadata": {
        "id": "ehkY0oDU8piY"
      },
      "source": [
        "base_model = make_pipeline(\n",
        "    StandardScaler(),\n",
        "    KNeighborsClassifier()\n",
        ")\n",
        "\n",
        "bagging_model = BaggingClassifier(base_model,n_estimators=10,max_samples=0.5,max_features=0.5)"
      ],
      "execution_count": 19,
      "outputs": []
    },
    {
      "cell_type": "code",
      "metadata": {
        "id": "3RKRD3sN9Z0k",
        "colab": {
          "base_uri": "https://localhost:8080/"
        },
        "outputId": "6260dddf-2a32-4eee-9679-beac47ae7843"
      },
      "source": [
        "cross_val = cross_validate(\n",
        "    estimator=base_model,\n",
        "    X=cancer.data,y=cancer.target,\n",
        "    cv=5\n",
        ")\n",
        "\n",
        "print('avg fit time: {} (+/- {})'.format(cross_val['fit_time'].mean(),cross_val['fit_time'].std()))\n",
        "print('avg score time: {} (+/- {})'.format(cross_val['score_time'].mean(),cross_val['score_time'].std()))\n",
        "print('avg test score: {} (+/- {})'.format(cross_val['test_score'].mean(),cross_val['test_score'].std()))"
      ],
      "execution_count": 20,
      "outputs": [
        {
          "output_type": "stream",
          "name": "stdout",
          "text": [
            "avg fit time: 0.00713052749633789 (+/- 0.004531389494559513)\n",
            "avg score time: 0.031141185760498048 (+/- 0.01632573003381464)\n",
            "avg test score: 0.9648501785437045 (+/- 0.009609970350036127)\n"
          ]
        }
      ]
    },
    {
      "cell_type": "code",
      "metadata": {
        "id": "xcNn5ihb9etn",
        "colab": {
          "base_uri": "https://localhost:8080/"
        },
        "outputId": "3004cab7-bfc5-4105-a6c2-b9cfef9aac79"
      },
      "source": [
        "cross_val = cross_validate(\n",
        "    estimator=bagging_model,\n",
        "    X=cancer.data,y=cancer.target,\n",
        "    cv=5\n",
        ")\n",
        "\n",
        "print('avg fit time: {} (+/- {})'.format(cross_val['fit_time'].mean(),cross_val['fit_time'].std()))\n",
        "print('avg score time: {} (+/- {})'.format(cross_val['score_time'].mean(),cross_val['score_time'].std()))\n",
        "print('avg test score: {} (+/- {})'.format(cross_val['test_score'].mean(),cross_val['test_score'].std()))"
      ],
      "execution_count": 21,
      "outputs": [
        {
          "output_type": "stream",
          "name": "stdout",
          "text": [
            "avg fit time: 0.024706268310546876 (+/- 0.0027298212608410297)\n",
            "avg score time: 0.014948272705078125 (+/- 0.0003518001532138477)\n",
            "avg test score: 0.9543393882937432 (+/- 0.016023485046730065)\n"
          ]
        }
      ]
    },
    {
      "cell_type": "markdown",
      "metadata": {
        "id": "c6cXnxEZ90NR"
      },
      "source": [
        "#### SVC"
      ]
    },
    {
      "cell_type": "markdown",
      "metadata": {
        "id": "yFolvlY393Pv"
      },
      "source": [
        "##### 붓꽃 데이터"
      ]
    },
    {
      "cell_type": "code",
      "metadata": {
        "id": "p8sUZEe798Wn"
      },
      "source": [
        "base_model = make_pipeline(\n",
        "    StandardScaler(),\n",
        "    SVC()\n",
        ")\n",
        "\n",
        "bagging_model = BaggingClassifier(base_model,n_estimators=10,max_samples=0.5,max_features=0.5)"
      ],
      "execution_count": 22,
      "outputs": []
    },
    {
      "cell_type": "code",
      "metadata": {
        "id": "OsPUpJp19_rt",
        "colab": {
          "base_uri": "https://localhost:8080/"
        },
        "outputId": "00abb451-b142-4390-c240-59f004da0747"
      },
      "source": [
        "cross_val = cross_validate(\n",
        "    estimator=base_model,\n",
        "    X=iris.data,y=iris.target,\n",
        "    cv=5\n",
        ")\n",
        "\n",
        "print('avg fit time: {} (+/- {})'.format(cross_val['fit_time'].mean(),cross_val['fit_time'].std()))\n",
        "print('avg score time: {} (+/- {})'.format(cross_val['score_time'].mean(),cross_val['score_time'].std()))\n",
        "print('avg test score: {} (+/- {})'.format(cross_val['test_score'].mean(),cross_val['test_score'].std()))"
      ],
      "execution_count": 23,
      "outputs": [
        {
          "output_type": "stream",
          "name": "stdout",
          "text": [
            "avg fit time: 0.0024876117706298826 (+/- 0.0012018383824976273)\n",
            "avg score time: 0.0006836414337158203 (+/- 0.00012271630083314687)\n",
            "avg test score: 0.9666666666666666 (+/- 0.02108185106778919)\n"
          ]
        }
      ]
    },
    {
      "cell_type": "code",
      "metadata": {
        "id": "3pynPIPD-FtO",
        "colab": {
          "base_uri": "https://localhost:8080/"
        },
        "outputId": "e01204a4-662c-447e-fc28-43738fefb0b4"
      },
      "source": [
        "cross_val = cross_validate(\n",
        "    estimator=bagging_model,\n",
        "    X=iris.data,y=iris.target,\n",
        "    cv=5\n",
        ")\n",
        "\n",
        "print('avg fit time: {} (+/- {})'.format(cross_val['fit_time'].mean(),cross_val['fit_time'].std()))\n",
        "print('avg score time: {} (+/- {})'.format(cross_val['score_time'].mean(),cross_val['score_time'].std()))\n",
        "print('avg test score: {} (+/- {})'.format(cross_val['test_score'].mean(),cross_val['test_score'].std()))"
      ],
      "execution_count": 25,
      "outputs": [
        {
          "output_type": "stream",
          "name": "stdout",
          "text": [
            "avg fit time: 0.029929399490356445 (+/- 0.0031408892172259976)\n",
            "avg score time: 0.004035329818725586 (+/- 0.0003391431202628974)\n",
            "avg test score: 0.96 (+/- 0.024944382578492935)\n"
          ]
        }
      ]
    },
    {
      "cell_type": "markdown",
      "metadata": {
        "id": "BAVcL_DG_HgP"
      },
      "source": [
        "##### 와인 데이터"
      ]
    },
    {
      "cell_type": "code",
      "metadata": {
        "id": "ue77eENh_HgQ"
      },
      "source": [
        "base_model = make_pipeline(\n",
        "    StandardScaler(),\n",
        "    SVC()\n",
        ")\n",
        "\n",
        "bagging_model = BaggingClassifier(base_model,n_estimators=10,max_samples=0.5,max_features=0.5)"
      ],
      "execution_count": 26,
      "outputs": []
    },
    {
      "cell_type": "code",
      "metadata": {
        "id": "V_dzw9UH_HgS",
        "colab": {
          "base_uri": "https://localhost:8080/"
        },
        "outputId": "402c14e7-00ff-4796-bb29-37b38a86e306"
      },
      "source": [
        "cross_val = cross_validate(\n",
        "    estimator=base_model,\n",
        "    X=wine.data,y=wine.target,\n",
        "    cv=5\n",
        ")\n",
        "\n",
        "print('avg fit time: {} (+/- {})'.format(cross_val['fit_time'].mean(),cross_val['fit_time'].std()))\n",
        "print('avg score time: {} (+/- {})'.format(cross_val['score_time'].mean(),cross_val['score_time'].std()))\n",
        "print('avg test score: {} (+/- {})'.format(cross_val['test_score'].mean(),cross_val['test_score'].std()))"
      ],
      "execution_count": 27,
      "outputs": [
        {
          "output_type": "stream",
          "name": "stdout",
          "text": [
            "avg fit time: 0.002767801284790039 (+/- 0.001547723392635066)\n",
            "avg score time: 0.0009202003479003906 (+/- 0.0005163317857811203)\n",
            "avg test score: 0.9833333333333334 (+/- 0.022222222222222233)\n"
          ]
        }
      ]
    },
    {
      "cell_type": "code",
      "metadata": {
        "id": "VBxzVY2V_HgT",
        "colab": {
          "base_uri": "https://localhost:8080/"
        },
        "outputId": "4edfc6be-3e20-4867-afab-abfb96caa409"
      },
      "source": [
        "cross_val = cross_validate(\n",
        "    estimator=bagging_model,\n",
        "    X=wine.data,y=wine.target,\n",
        "    cv=5\n",
        ")\n",
        "\n",
        "print('avg fit time: {} (+/- {})'.format(cross_val['fit_time'].mean(),cross_val['fit_time'].std()))\n",
        "print('avg score time: {} (+/- {})'.format(cross_val['score_time'].mean(),cross_val['score_time'].std()))\n",
        "print('avg test score: {} (+/- {})'.format(cross_val['test_score'].mean(),cross_val['test_score'].std()))"
      ],
      "execution_count": 28,
      "outputs": [
        {
          "output_type": "stream",
          "name": "stdout",
          "text": [
            "avg fit time: 0.030518436431884767 (+/- 0.001616776620231892)\n",
            "avg score time: 0.004496097564697266 (+/- 0.00018459437429642713)\n",
            "avg test score: 0.9328571428571429 (+/- 0.03790162439488878)\n"
          ]
        }
      ]
    },
    {
      "cell_type": "markdown",
      "metadata": {
        "id": "59r3mE7H92wX"
      },
      "source": [
        "##### 유방암 데이터"
      ]
    },
    {
      "cell_type": "code",
      "metadata": {
        "id": "eyPt59pf92Fg"
      },
      "source": [
        "base_model = make_pipeline(\n",
        "    StandardScaler(),\n",
        "    SVC()\n",
        ")\n",
        "\n",
        "bagging_model = BaggingClassifier(base_model,n_estimators=10,max_samples=0.5,max_features=0.5)"
      ],
      "execution_count": 29,
      "outputs": []
    },
    {
      "cell_type": "code",
      "metadata": {
        "id": "7IU4SKDX-UEn",
        "colab": {
          "base_uri": "https://localhost:8080/"
        },
        "outputId": "c8ccd052-9849-452b-f9d5-d9e26cf9371a"
      },
      "source": [
        "cross_val = cross_validate(\n",
        "    estimator=base_model,\n",
        "    X=cancer.data,y=cancer.target,\n",
        "    cv=5\n",
        ")\n",
        "\n",
        "print('avg fit time: {} (+/- {})'.format(cross_val['fit_time'].mean(),cross_val['fit_time'].std()))\n",
        "print('avg score time: {} (+/- {})'.format(cross_val['score_time'].mean(),cross_val['score_time'].std()))\n",
        "print('avg test score: {} (+/- {})'.format(cross_val['test_score'].mean(),cross_val['test_score'].std()))"
      ],
      "execution_count": 30,
      "outputs": [
        {
          "output_type": "stream",
          "name": "stdout",
          "text": [
            "avg fit time: 0.007233762741088867 (+/- 0.0025010715809997)\n",
            "avg score time: 0.0019231796264648437 (+/- 0.00011550877966657703)\n",
            "avg test score: 0.9736376339077782 (+/- 0.014678541667933545)\n"
          ]
        }
      ]
    },
    {
      "cell_type": "code",
      "metadata": {
        "id": "yJimG-mr-X2E",
        "colab": {
          "base_uri": "https://localhost:8080/"
        },
        "outputId": "b0b797be-0d68-4e1a-db55-106557b7065c"
      },
      "source": [
        "cross_val = cross_validate(\n",
        "    estimator=bagging_model,\n",
        "    X=cancer.data,y=cancer.target,\n",
        "    cv=5\n",
        ")\n",
        "\n",
        "print('avg fit time: {} (+/- {})'.format(cross_val['fit_time'].mean(),cross_val['fit_time'].std()))\n",
        "print('avg score time: {} (+/- {})'.format(cross_val['score_time'].mean(),cross_val['score_time'].std()))\n",
        "print('avg test score: {} (+/- {})'.format(cross_val['test_score'].mean(),cross_val['test_score'].std()))"
      ],
      "execution_count": 31,
      "outputs": [
        {
          "output_type": "stream",
          "name": "stdout",
          "text": [
            "avg fit time: 0.04356122016906738 (+/- 0.0025991710595436265)\n",
            "avg score time: 0.011040067672729493 (+/- 0.002330565718796862)\n",
            "avg test score: 0.9700978108989287 (+/- 0.009067951824315095)\n"
          ]
        }
      ]
    },
    {
      "cell_type": "markdown",
      "metadata": {
        "id": "Gtpz-2Ly-gF2"
      },
      "source": [
        "#### Decision Tree"
      ]
    },
    {
      "cell_type": "markdown",
      "metadata": {
        "id": "3A4T9Bv--jF-"
      },
      "source": [
        "##### 붓꽃 데이터"
      ]
    },
    {
      "cell_type": "code",
      "metadata": {
        "id": "uIoFBCuG-nZo"
      },
      "source": [
        "base_model = make_pipeline(\n",
        "    StandardScaler(),\n",
        "    DecisionTreeClassifier()\n",
        ")\n",
        "\n",
        "bagging_model = BaggingClassifier(base_model,n_estimators=10,max_samples=0.5,max_features=0.5)"
      ],
      "execution_count": 32,
      "outputs": []
    },
    {
      "cell_type": "code",
      "metadata": {
        "id": "uXfCtpMp-rZm",
        "colab": {
          "base_uri": "https://localhost:8080/"
        },
        "outputId": "28071854-803b-4ede-8aab-2274aaa1cd44"
      },
      "source": [
        "cross_val = cross_validate(\n",
        "    estimator=base_model,\n",
        "    X=iris.data,y=iris.target,\n",
        "    cv=5\n",
        ")\n",
        "\n",
        "print('avg fit time: {} (+/- {})'.format(cross_val['fit_time'].mean(),cross_val['fit_time'].std()))\n",
        "print('avg score time: {} (+/- {})'.format(cross_val['score_time'].mean(),cross_val['score_time'].std()))\n",
        "print('avg test score: {} (+/- {})'.format(cross_val['test_score'].mean(),cross_val['test_score'].std()))"
      ],
      "execution_count": 33,
      "outputs": [
        {
          "output_type": "stream",
          "name": "stdout",
          "text": [
            "avg fit time: 0.0023202419281005858 (+/- 0.0016936959135725519)\n",
            "avg score time: 0.00048508644104003904 (+/- 8.420714702481064e-05)\n",
            "avg test score: 0.9600000000000002 (+/- 0.03265986323710903)\n"
          ]
        }
      ]
    },
    {
      "cell_type": "code",
      "metadata": {
        "id": "b5Rx77at-xaC",
        "colab": {
          "base_uri": "https://localhost:8080/"
        },
        "outputId": "10398041-74b5-4ba4-9a2b-4f81f05ec69f"
      },
      "source": [
        "cross_val = cross_validate(\n",
        "    estimator=bagging_model,\n",
        "    X=iris.data,y=iris.target,\n",
        "    cv=5\n",
        ")\n",
        "\n",
        "print('avg fit time: {} (+/- {})'.format(cross_val['fit_time'].mean(),cross_val['fit_time'].std()))\n",
        "print('avg score time: {} (+/- {})'.format(cross_val['score_time'].mean(),cross_val['score_time'].std()))\n",
        "print('avg test score: {} (+/- {})'.format(cross_val['test_score'].mean(),cross_val['test_score'].std()))"
      ],
      "execution_count": 34,
      "outputs": [
        {
          "output_type": "stream",
          "name": "stdout",
          "text": [
            "avg fit time: 0.038323831558227536 (+/- 0.007054150763669494)\n",
            "avg score time: 0.003797149658203125 (+/- 0.0009844973856110433)\n",
            "avg test score: 0.9400000000000001 (+/- 0.04898979485566354)\n"
          ]
        }
      ]
    },
    {
      "cell_type": "markdown",
      "metadata": {
        "id": "Ninof3DO_IO3"
      },
      "source": [
        "##### 와인 데이터"
      ]
    },
    {
      "cell_type": "code",
      "metadata": {
        "id": "L_ZwogKE_IO5"
      },
      "source": [
        "base_model = make_pipeline(\n",
        "    StandardScaler(),\n",
        "    DecisionTreeClassifier()\n",
        ")\n",
        "\n",
        "bagging_model = BaggingClassifier(base_model,n_estimators=10,max_samples=0.5,max_features=0.5)"
      ],
      "execution_count": 35,
      "outputs": []
    },
    {
      "cell_type": "code",
      "metadata": {
        "id": "xlO4uHnn_IPA",
        "colab": {
          "base_uri": "https://localhost:8080/"
        },
        "outputId": "b79dc975-b4cb-437b-add8-2610c15b6954"
      },
      "source": [
        "cross_val = cross_validate(\n",
        "    estimator=base_model,\n",
        "    X=wine.data,y=wine.target,\n",
        "    cv=5\n",
        ")\n",
        "\n",
        "print('avg fit time: {} (+/- {})'.format(cross_val['fit_time'].mean(),cross_val['fit_time'].std()))\n",
        "print('avg score time: {} (+/- {})'.format(cross_val['score_time'].mean(),cross_val['score_time'].std()))\n",
        "print('avg test score: {} (+/- {})'.format(cross_val['test_score'].mean(),cross_val['test_score'].std()))"
      ],
      "execution_count": 36,
      "outputs": [
        {
          "output_type": "stream",
          "name": "stdout",
          "text": [
            "avg fit time: 0.0020169734954833983 (+/- 0.0005285414878030425)\n",
            "avg score time: 0.0007305622100830078 (+/- 0.0006160052419527505)\n",
            "avg test score: 0.882063492063492 (+/- 0.03248970222730342)\n"
          ]
        }
      ]
    },
    {
      "cell_type": "code",
      "metadata": {
        "id": "6l5RCMWI_IPI",
        "colab": {
          "base_uri": "https://localhost:8080/"
        },
        "outputId": "6b8db01e-1257-42c7-abbb-c21892dc36c7"
      },
      "source": [
        "cross_val = cross_validate(\n",
        "    estimator=bagging_model,\n",
        "    X=wine.data,y=wine.target,\n",
        "    cv=5\n",
        ")\n",
        "\n",
        "print('avg fit time: {} (+/- {})'.format(cross_val['fit_time'].mean(),cross_val['fit_time'].std()))\n",
        "print('avg score time: {} (+/- {})'.format(cross_val['score_time'].mean(),cross_val['score_time'].std()))\n",
        "print('avg test score: {} (+/- {})'.format(cross_val['test_score'].mean(),cross_val['test_score'].std()))"
      ],
      "execution_count": 37,
      "outputs": [
        {
          "output_type": "stream",
          "name": "stdout",
          "text": [
            "avg fit time: 0.048717164993286134 (+/- 0.005350441730478975)\n",
            "avg score time: 0.0046557426452636715 (+/- 0.00019448986493329775)\n",
            "avg test score: 0.922063492063492 (+/- 0.10145378130207267)\n"
          ]
        }
      ]
    },
    {
      "cell_type": "markdown",
      "metadata": {
        "id": "uVlALN6t-i3T"
      },
      "source": [
        "##### 유방암 데이터"
      ]
    },
    {
      "cell_type": "code",
      "metadata": {
        "id": "cQF4b3Jw_GbO"
      },
      "source": [
        "base_model = make_pipeline(\n",
        "    StandardScaler(),\n",
        "    DecisionTreeClassifier()\n",
        ")\n",
        "\n",
        "bagging_model = BaggingClassifier(base_model,n_estimators=10,max_samples=0.5,max_features=0.5)"
      ],
      "execution_count": 38,
      "outputs": []
    },
    {
      "cell_type": "code",
      "metadata": {
        "id": "NNXg71CM_JZR",
        "colab": {
          "base_uri": "https://localhost:8080/"
        },
        "outputId": "7ccf7bfe-f5e5-4403-abce-09332a5a2fab"
      },
      "source": [
        "cross_val = cross_validate(\n",
        "    estimator=base_model,\n",
        "    X=cancer.data,y=cancer.target,\n",
        "    cv=5\n",
        ")\n",
        "\n",
        "print('avg fit time: {} (+/- {})'.format(cross_val['fit_time'].mean(),cross_val['fit_time'].std()))\n",
        "print('avg score time: {} (+/- {})'.format(cross_val['score_time'].mean(),cross_val['score_time'].std()))\n",
        "print('avg test score: {} (+/- {})'.format(cross_val['test_score'].mean(),cross_val['test_score'].std()))"
      ],
      "execution_count": 39,
      "outputs": [
        {
          "output_type": "stream",
          "name": "stdout",
          "text": [
            "avg fit time: 0.018874406814575195 (+/- 0.008837325097805366)\n",
            "avg score time: 0.0009709358215332031 (+/- 0.00014075241079769164)\n",
            "avg test score: 0.9173575531749728 (+/- 0.018300034495311604)\n"
          ]
        }
      ]
    },
    {
      "cell_type": "code",
      "metadata": {
        "id": "DQ0zpCGU_NXO",
        "colab": {
          "base_uri": "https://localhost:8080/"
        },
        "outputId": "a41dc7ea-6e60-4031-c8d8-7a451eec814d"
      },
      "source": [
        "cross_val = cross_validate(\n",
        "    estimator=bagging_model,\n",
        "    X=cancer.data,y=cancer.target,\n",
        "    cv=5\n",
        ")\n",
        "\n",
        "print('avg fit time: {} (+/- {})'.format(cross_val['fit_time'].mean(),cross_val['fit_time'].std()))\n",
        "print('avg score time: {} (+/- {})'.format(cross_val['score_time'].mean(),cross_val['score_time'].std()))\n",
        "print('avg test score: {} (+/- {})'.format(cross_val['test_score'].mean(),cross_val['test_score'].std()))"
      ],
      "execution_count": 41,
      "outputs": [
        {
          "output_type": "stream",
          "name": "stdout",
          "text": [
            "avg fit time: 0.06287012100219727 (+/- 0.004815802960819747)\n",
            "avg score time: 0.005465412139892578 (+/- 0.0008632810700271613)\n",
            "avg test score: 0.9578171091445427 (+/- 0.01510161814346752)\n"
          ]
        }
      ]
    },
    {
      "cell_type": "markdown",
      "metadata": {
        "id": "G8m4pTeC_Y7Q"
      },
      "source": [
        "### Bagging을 사용한 회귀"
      ]
    },
    {
      "cell_type": "markdown",
      "metadata": {
        "id": "47h6mi6D_cu3"
      },
      "source": [
        "#### 데이터셋 불러오기"
      ]
    },
    {
      "cell_type": "code",
      "metadata": {
        "id": "UN7-vRcK_pKZ",
        "colab": {
          "base_uri": "https://localhost:8080/"
        },
        "outputId": "1183aa0b-0563-44f3-aca0-420e54a9bfb0"
      },
      "source": [
        "boston = load_boston()\n",
        "diabetes = load_diabetes()"
      ],
      "execution_count": 45,
      "outputs": [
        {
          "output_type": "stream",
          "name": "stderr",
          "text": [
            "/usr/local/lib/python3.7/dist-packages/sklearn/utils/deprecation.py:87: FutureWarning: Function load_boston is deprecated; `load_boston` is deprecated in 1.0 and will be removed in 1.2.\n",
            "\n",
            "    The Boston housing prices dataset has an ethical problem. You can refer to\n",
            "    the documentation of this function for further details.\n",
            "\n",
            "    The scikit-learn maintainers therefore strongly discourage the use of this\n",
            "    dataset unless the purpose of the code is to study and educate about\n",
            "    ethical issues in data science and machine learning.\n",
            "\n",
            "    In this special case, you can fetch the dataset from the original\n",
            "    source::\n",
            "\n",
            "        import pandas as pd\n",
            "        import numpy as np\n",
            "\n",
            "\n",
            "        data_url = \"http://lib.stat.cmu.edu/datasets/boston\"\n",
            "        raw_df = pd.read_csv(data_url, sep=\"\\s+\", skiprows=22, header=None)\n",
            "        data = np.hstack([raw_df.values[::2, :], raw_df.values[1::2, :2]])\n",
            "        target = raw_df.values[1::2, 2]\n",
            "\n",
            "    Alternative datasets include the California housing dataset (i.e.\n",
            "    :func:`~sklearn.datasets.fetch_california_housing`) and the Ames housing\n",
            "    dataset. You can load the datasets as follows::\n",
            "\n",
            "        from sklearn.datasets import fetch_california_housing\n",
            "        housing = fetch_california_housing()\n",
            "\n",
            "    for the California housing dataset and::\n",
            "\n",
            "        from sklearn.datasets import fetch_openml\n",
            "        housing = fetch_openml(name=\"house_prices\", as_frame=True)\n",
            "\n",
            "    for the Ames housing dataset.\n",
            "    \n",
            "  warnings.warn(msg, category=FutureWarning)\n"
          ]
        }
      ]
    },
    {
      "cell_type": "markdown",
      "metadata": {
        "id": "lBSK7rhp_gMV"
      },
      "source": [
        "#### KNN"
      ]
    },
    {
      "cell_type": "markdown",
      "metadata": {
        "id": "Ze7yqMOL_t34"
      },
      "source": [
        "##### 보스턴 주택 가격 데이터"
      ]
    },
    {
      "cell_type": "code",
      "metadata": {
        "id": "IE8Slxcu_7jg"
      },
      "source": [
        "base_model = make_pipeline(\n",
        "    StandardScaler(),\n",
        "    KNeighborsRegressor()\n",
        ")\n",
        "\n",
        "bagging_model = BaggingRegressor(base_model,n_estimators=10,max_samples=0.5,max_features=0.5)"
      ],
      "execution_count": 49,
      "outputs": []
    },
    {
      "cell_type": "code",
      "metadata": {
        "id": "keEufZavATxq",
        "colab": {
          "base_uri": "https://localhost:8080/"
        },
        "outputId": "0d1052de-07df-4b74-cce9-43d239b4a613"
      },
      "source": [
        "cross_val = cross_validate(\n",
        "    estimator=base_model,\n",
        "    X=boston.data,y=boston.target,\n",
        "    cv=5\n",
        ")\n",
        "\n",
        "print('avg fit time: {} (+/- {})'.format(cross_val['fit_time'].mean(),cross_val['fit_time'].std()))\n",
        "print('avg score time: {} (+/- {})'.format(cross_val['score_time'].mean(),cross_val['score_time'].std()))\n",
        "print('avg test score: {} (+/- {})'.format(cross_val['test_score'].mean(),cross_val['test_score'].std()))"
      ],
      "execution_count": 50,
      "outputs": [
        {
          "output_type": "stream",
          "name": "stdout",
          "text": [
            "avg fit time: 0.0018101215362548828 (+/- 0.0008606988425709653)\n",
            "avg score time: 0.0017401218414306641 (+/- 0.0004508976706391195)\n",
            "avg test score: 0.47357748833823543 (+/- 0.13243123464477455)\n"
          ]
        }
      ]
    },
    {
      "cell_type": "code",
      "metadata": {
        "id": "oJbcuQntAXzE",
        "colab": {
          "base_uri": "https://localhost:8080/"
        },
        "outputId": "1808368b-0b06-46d3-e9be-4c4b53a50eb0"
      },
      "source": [
        "cross_val = cross_validate(\n",
        "    estimator=bagging_model,\n",
        "    X=boston.data,y=boston.target,\n",
        "    cv=5\n",
        ")\n",
        "\n",
        "print('avg fit time: {} (+/- {})'.format(cross_val['fit_time'].mean(),cross_val['fit_time'].std()))\n",
        "print('avg score time: {} (+/- {})'.format(cross_val['score_time'].mean(),cross_val['score_time'].std()))\n",
        "print('avg test score: {} (+/- {})'.format(cross_val['test_score'].mean(),cross_val['test_score'].std()))"
      ],
      "execution_count": 51,
      "outputs": [
        {
          "output_type": "stream",
          "name": "stdout",
          "text": [
            "avg fit time: 0.02156071662902832 (+/- 0.002998519839228184)\n",
            "avg score time: 0.009858989715576172 (+/- 0.0006013173431367279)\n",
            "avg test score: 0.4373796274446722 (+/- 0.1271458418948375)\n"
          ]
        }
      ]
    },
    {
      "cell_type": "markdown",
      "metadata": {
        "id": "vsCxrkMO_td0"
      },
      "source": [
        "##### 당뇨병 데이터"
      ]
    },
    {
      "cell_type": "code",
      "metadata": {
        "id": "WnsTBoTOAmki"
      },
      "source": [
        "base_model = make_pipeline(\n",
        "    StandardScaler(),\n",
        "    KNeighborsRegressor()\n",
        ")\n",
        "\n",
        "bagging_model = BaggingRegressor(base_model,n_estimators=10,max_samples=0.5,max_features=0.5)"
      ],
      "execution_count": 52,
      "outputs": []
    },
    {
      "cell_type": "code",
      "metadata": {
        "id": "014edZXTAmPb",
        "colab": {
          "base_uri": "https://localhost:8080/"
        },
        "outputId": "466a7925-3267-426d-f068-9e919589c081"
      },
      "source": [
        "cross_val = cross_validate(\n",
        "    estimator=base_model,\n",
        "    X=diabetes.data,y=diabetes.target,\n",
        "    cv=5\n",
        ")\n",
        "\n",
        "print('avg fit time: {} (+/- {})'.format(cross_val['fit_time'].mean(),cross_val['fit_time'].std()))\n",
        "print('avg score time: {} (+/- {})'.format(cross_val['score_time'].mean(),cross_val['score_time'].std()))\n",
        "print('avg test score: {} (+/- {})'.format(cross_val['test_score'].mean(),cross_val['test_score'].std()))"
      ],
      "execution_count": 53,
      "outputs": [
        {
          "output_type": "stream",
          "name": "stdout",
          "text": [
            "avg fit time: 0.001737213134765625 (+/- 0.0005764937302166598)\n",
            "avg score time: 0.0021549224853515624 (+/- 0.00048408170586919293)\n",
            "avg test score: 0.3689720650295623 (+/- 0.044659049060165365)\n"
          ]
        }
      ]
    },
    {
      "cell_type": "code",
      "metadata": {
        "id": "kq3vs4juAl2_",
        "colab": {
          "base_uri": "https://localhost:8080/"
        },
        "outputId": "2ed0dbf1-d766-492b-fb98-6a90a34ee99f"
      },
      "source": [
        "cross_val = cross_validate(\n",
        "    estimator=bagging_model,\n",
        "    X=diabetes.data,y=diabetes.target,\n",
        "    cv=5\n",
        ")\n",
        "\n",
        "print('avg fit time: {} (+/- {})'.format(cross_val['fit_time'].mean(),cross_val['fit_time'].std()))\n",
        "print('avg score time: {} (+/- {})'.format(cross_val['score_time'].mean(),cross_val['score_time'].std()))\n",
        "print('avg test score: {} (+/- {})'.format(cross_val['test_score'].mean(),cross_val['test_score'].std()))"
      ],
      "execution_count": 54,
      "outputs": [
        {
          "output_type": "stream",
          "name": "stdout",
          "text": [
            "avg fit time: 0.020468378067016603 (+/- 0.001979752343451195)\n",
            "avg score time: 0.00889759063720703 (+/- 0.00014836636267719119)\n",
            "avg test score: 0.3826042839490654 (+/- 0.07117310115129925)\n"
          ]
        }
      ]
    },
    {
      "cell_type": "markdown",
      "metadata": {
        "id": "UNWloxDa_fvn"
      },
      "source": [
        "#### SVR"
      ]
    },
    {
      "cell_type": "markdown",
      "metadata": {
        "id": "NRDHG3iX_ygt"
      },
      "source": [
        "##### 보스턴 주택 가격 데이터"
      ]
    },
    {
      "cell_type": "code",
      "metadata": {
        "id": "yvYMEUkXAyOz"
      },
      "source": [
        "base_model = make_pipeline(\n",
        "    StandardScaler(),\n",
        "    SVR()\n",
        ")\n",
        "\n",
        "bagging_model = BaggingRegressor(base_model,n_estimators=10,max_samples=0.5,max_features=0.5)"
      ],
      "execution_count": 55,
      "outputs": []
    },
    {
      "cell_type": "code",
      "metadata": {
        "id": "Swm8VEn1A2oZ",
        "colab": {
          "base_uri": "https://localhost:8080/"
        },
        "outputId": "7163dd48-c38f-43b8-97a0-7c3d44b29402"
      },
      "source": [
        "cross_val = cross_validate(\n",
        "    estimator=base_model,\n",
        "    X=boston.data,y=boston.target,\n",
        "    cv=5\n",
        ")\n",
        "\n",
        "print('avg fit time: {} (+/- {})'.format(cross_val['fit_time'].mean(),cross_val['fit_time'].std()))\n",
        "print('avg score time: {} (+/- {})'.format(cross_val['score_time'].mean(),cross_val['score_time'].std()))\n",
        "print('avg test score: {} (+/- {})'.format(cross_val['test_score'].mean(),cross_val['test_score'].std()))"
      ],
      "execution_count": 56,
      "outputs": [
        {
          "output_type": "stream",
          "name": "stdout",
          "text": [
            "avg fit time: 0.021424055099487305 (+/- 0.015214128829808644)\n",
            "avg score time: 0.004116439819335937 (+/- 0.0010682118384918854)\n",
            "avg test score: 0.17631266230186618 (+/- 0.5224914915128981)\n"
          ]
        }
      ]
    },
    {
      "cell_type": "code",
      "metadata": {
        "id": "gI_Vf2NXA570",
        "colab": {
          "base_uri": "https://localhost:8080/"
        },
        "outputId": "6905f023-cfb3-4e8d-98c0-024fb4eb7df1"
      },
      "source": [
        "cross_val = cross_validate(\n",
        "    estimator=bagging_model,\n",
        "    X=boston.data,y=boston.target,\n",
        "    cv=5\n",
        ")\n",
        "\n",
        "print('avg fit time: {} (+/- {})'.format(cross_val['fit_time'].mean(),cross_val['fit_time'].std()))\n",
        "print('avg score time: {} (+/- {})'.format(cross_val['score_time'].mean(),cross_val['score_time'].std()))\n",
        "print('avg test score: {} (+/- {})'.format(cross_val['test_score'].mean(),cross_val['test_score'].std()))"
      ],
      "execution_count": 57,
      "outputs": [
        {
          "output_type": "stream",
          "name": "stdout",
          "text": [
            "avg fit time: 0.07052321434020996 (+/- 0.030580022675696275)\n",
            "avg score time: 0.020155954360961913 (+/- 0.0061094910670771415)\n",
            "avg test score: 0.12636102153944656 (+/- 0.30856551309462343)\n"
          ]
        }
      ]
    },
    {
      "cell_type": "markdown",
      "metadata": {
        "id": "dB98AXg7_004"
      },
      "source": [
        "##### 당뇨병 데이터"
      ]
    },
    {
      "cell_type": "code",
      "metadata": {
        "id": "u2_GMYGIA9-J"
      },
      "source": [
        "base_model = make_pipeline(\n",
        "    StandardScaler(),\n",
        "    SVR()\n",
        ")\n",
        "\n",
        "bagging_model = BaggingRegressor(base_model,n_estimators=10,max_samples=0.5,max_features=0.5)"
      ],
      "execution_count": 58,
      "outputs": []
    },
    {
      "cell_type": "code",
      "metadata": {
        "id": "E-p61kkSA_Ow",
        "colab": {
          "base_uri": "https://localhost:8080/"
        },
        "outputId": "9bcbfda1-967e-40ff-8d54-7709cdd8b630"
      },
      "source": [
        "cross_val = cross_validate(\n",
        "    estimator=base_model,\n",
        "    X=diabetes.data,y=diabetes.target,\n",
        "    cv=5\n",
        ")\n",
        "\n",
        "print('avg fit time: {} (+/- {})'.format(cross_val['fit_time'].mean(),cross_val['fit_time'].std()))\n",
        "print('avg score time: {} (+/- {})'.format(cross_val['score_time'].mean(),cross_val['score_time'].std()))\n",
        "print('avg test score: {} (+/- {})'.format(cross_val['test_score'].mean(),cross_val['test_score'].std()))"
      ],
      "execution_count": 59,
      "outputs": [
        {
          "output_type": "stream",
          "name": "stdout",
          "text": [
            "avg fit time: 0.029915046691894532 (+/- 0.014576498544863042)\n",
            "avg score time: 0.006629467010498047 (+/- 0.0020341677168479975)\n",
            "avg test score: 0.14659936199629434 (+/- 0.02190798003342928)\n"
          ]
        }
      ]
    },
    {
      "cell_type": "code",
      "metadata": {
        "id": "zYRTb9hPBCDv",
        "colab": {
          "base_uri": "https://localhost:8080/"
        },
        "outputId": "c8e23e65-5ab8-4a6c-b0a8-afa44db522c1"
      },
      "source": [
        "cross_val = cross_validate(\n",
        "    estimator=bagging_model,\n",
        "    X=diabetes.data,y=diabetes.target,\n",
        "    cv=5\n",
        ")\n",
        "\n",
        "print('avg fit time: {} (+/- {})'.format(cross_val['fit_time'].mean(),cross_val['fit_time'].std()))\n",
        "print('avg score time: {} (+/- {})'.format(cross_val['score_time'].mean(),cross_val['score_time'].std()))\n",
        "print('avg test score: {} (+/- {})'.format(cross_val['test_score'].mean(),cross_val['test_score'].std()))"
      ],
      "execution_count": 60,
      "outputs": [
        {
          "output_type": "stream",
          "name": "stdout",
          "text": [
            "avg fit time: 0.042207860946655275 (+/- 0.004292602881833687)\n",
            "avg score time: 0.01277022361755371 (+/- 0.0005867092521933238)\n",
            "avg test score: 0.06641468032808677 (+/- 0.030949076523192752)\n"
          ]
        }
      ]
    },
    {
      "cell_type": "markdown",
      "metadata": {
        "id": "Ffge42tG_fFc"
      },
      "source": [
        "#### Decision Tree"
      ]
    },
    {
      "cell_type": "markdown",
      "metadata": {
        "id": "MWWTfD6T_44c"
      },
      "source": [
        "##### 보스턴 주택 가격 데이터"
      ]
    },
    {
      "cell_type": "code",
      "metadata": {
        "id": "IdfQuNoLBIk8"
      },
      "source": [
        "base_model = make_pipeline(\n",
        "    StandardScaler(),\n",
        "    DecisionTreeRegressor()\n",
        ")\n",
        "\n",
        "bagging_model = BaggingRegressor(base_model,n_estimators=10,max_samples=0.5,max_features=0.5)"
      ],
      "execution_count": 61,
      "outputs": []
    },
    {
      "cell_type": "code",
      "metadata": {
        "id": "uMToSfgzBL3v",
        "colab": {
          "base_uri": "https://localhost:8080/"
        },
        "outputId": "f2743783-b1a8-437a-fb69-b3c3db6b936b"
      },
      "source": [
        "cross_val = cross_validate(\n",
        "    estimator=base_model,\n",
        "    X=boston.data,y=boston.target,\n",
        "    cv=5\n",
        ")\n",
        "\n",
        "print('avg fit time: {} (+/- {})'.format(cross_val['fit_time'].mean(),cross_val['fit_time'].std()))\n",
        "print('avg score time: {} (+/- {})'.format(cross_val['score_time'].mean(),cross_val['score_time'].std()))\n",
        "print('avg test score: {} (+/- {})'.format(cross_val['test_score'].mean(),cross_val['test_score'].std()))"
      ],
      "execution_count": 62,
      "outputs": [
        {
          "output_type": "stream",
          "name": "stdout",
          "text": [
            "avg fit time: 0.0067770957946777345 (+/- 0.0007928415235707085)\n",
            "avg score time: 0.000980377197265625 (+/- 9.934899616447098e-05)\n",
            "avg test score: 0.047413710328529216 (+/- 0.9544451491584948)\n"
          ]
        }
      ]
    },
    {
      "cell_type": "code",
      "metadata": {
        "id": "PyI5bERuBPLx",
        "colab": {
          "base_uri": "https://localhost:8080/"
        },
        "outputId": "b817510a-550a-4b05-a8e9-5b778d45fd90"
      },
      "source": [
        "cross_val = cross_validate(\n",
        "    estimator=bagging_model,\n",
        "    X=boston.data,y=boston.target,\n",
        "    cv=5\n",
        ")\n",
        "\n",
        "print('avg fit time: {} (+/- {})'.format(cross_val['fit_time'].mean(),cross_val['fit_time'].std()))\n",
        "print('avg score time: {} (+/- {})'.format(cross_val['score_time'].mean(),cross_val['score_time'].std()))\n",
        "print('avg test score: {} (+/- {})'.format(cross_val['test_score'].mean(),cross_val['test_score'].std()))"
      ],
      "execution_count": 63,
      "outputs": [
        {
          "output_type": "stream",
          "name": "stdout",
          "text": [
            "avg fit time: 0.05505037307739258 (+/- 0.00666935488841663)\n",
            "avg score time: 0.004637384414672851 (+/- 0.000486702705018449)\n",
            "avg test score: 0.5560829411661226 (+/- 0.23759333130488403)\n"
          ]
        }
      ]
    },
    {
      "cell_type": "markdown",
      "metadata": {
        "id": "djcuGIS-_4kG"
      },
      "source": [
        "##### 당뇨병 데이터"
      ]
    },
    {
      "cell_type": "code",
      "metadata": {
        "id": "MavauM2gBeuu"
      },
      "source": [
        "base_model = make_pipeline(\n",
        "    StandardScaler(),\n",
        "    DecisionTreeRegressor()\n",
        ")\n",
        "\n",
        "bagging_model = BaggingRegressor(base_model,n_estimators=10,max_samples=0.5,max_features=0.5)"
      ],
      "execution_count": 64,
      "outputs": []
    },
    {
      "cell_type": "code",
      "metadata": {
        "id": "eiCiUfMaBg6S",
        "colab": {
          "base_uri": "https://localhost:8080/"
        },
        "outputId": "01c9ffcf-dd89-4dd8-abf8-5c7cf670b94d"
      },
      "source": [
        "cross_val = cross_validate(\n",
        "    estimator=base_model,\n",
        "    X=diabetes.data,y=diabetes.target,\n",
        "    cv=5\n",
        ")\n",
        "\n",
        "print('avg fit time: {} (+/- {})'.format(cross_val['fit_time'].mean(),cross_val['fit_time'].std()))\n",
        "print('avg score time: {} (+/- {})'.format(cross_val['score_time'].mean(),cross_val['score_time'].std()))\n",
        "print('avg test score: {} (+/- {})'.format(cross_val['test_score'].mean(),cross_val['test_score'].std()))"
      ],
      "execution_count": 65,
      "outputs": [
        {
          "output_type": "stream",
          "name": "stdout",
          "text": [
            "avg fit time: 0.003843259811401367 (+/- 0.0013376713521475526)\n",
            "avg score time: 0.0005595684051513672 (+/- 5.722244577137528e-05)\n",
            "avg test score: -0.15624698791730302 (+/- 0.12509763084038894)\n"
          ]
        }
      ]
    },
    {
      "cell_type": "code",
      "metadata": {
        "id": "hDpNFOCpBldg",
        "colab": {
          "base_uri": "https://localhost:8080/"
        },
        "outputId": "1a84ffef-3aac-4735-e4ab-fae814ca808e"
      },
      "source": [
        "cross_val = cross_validate(\n",
        "    estimator=bagging_model,\n",
        "    X=diabetes.data,y=diabetes.target,\n",
        "    cv=5\n",
        ")\n",
        "\n",
        "print('avg fit time: {} (+/- {})'.format(cross_val['fit_time'].mean(),cross_val['fit_time'].std()))\n",
        "print('avg score time: {} (+/- {})'.format(cross_val['score_time'].mean(),cross_val['score_time'].std()))\n",
        "print('avg test score: {} (+/- {})'.format(cross_val['test_score'].mean(),cross_val['test_score'].std()))"
      ],
      "execution_count": 66,
      "outputs": [
        {
          "output_type": "stream",
          "name": "stdout",
          "text": [
            "avg fit time: 0.03170523643493652 (+/- 0.0026683294725572157)\n",
            "avg score time: 0.002910804748535156 (+/- 0.0002808267418315611)\n",
            "avg test score: 0.3752051424877476 (+/- 0.06432226143241676)\n"
          ]
        }
      ]
    },
    {
      "cell_type": "markdown",
      "metadata": {
        "id": "Hve567xWbywt"
      },
      "source": [
        "## Forests of randomized trees\n",
        "\n",
        "* `sklearn.ensemble` 모듈에는 무작위 결정 트리를 기반으로하는 두 개의 평균화 알고리즘이 존재\n",
        "  * Random Forest\n",
        "  * Extra-Trees\n",
        "* 모델 구성에 임의성을 추가해 다양한 모델 집합이 생성\n",
        "* 앙상블 모델의 예측은 각 모델의 평균"
      ]
    },
    {
      "cell_type": "code",
      "metadata": {
        "id": "9dLhSVb7CMIV"
      },
      "source": [
        "from sklearn.ensemble import RandomForestClassifier, ExtraTreesClassifier\n",
        "from sklearn.ensemble import RandomForestRegressor, ExtraTreesRegressor"
      ],
      "execution_count": 67,
      "outputs": []
    },
    {
      "cell_type": "markdown",
      "metadata": {
        "id": "oDLPV0rHk_kG"
      },
      "source": [
        "### Random Forests 분류"
      ]
    },
    {
      "cell_type": "code",
      "metadata": {
        "id": "rpQvJshtlc-r"
      },
      "source": [
        "model = make_pipeline(\n",
        "    StandardScaler(),\n",
        "    RandomForestClassifier()\n",
        ")"
      ],
      "execution_count": 68,
      "outputs": []
    },
    {
      "cell_type": "code",
      "metadata": {
        "id": "Vtf-Qegjlsz6",
        "colab": {
          "base_uri": "https://localhost:8080/"
        },
        "outputId": "255d34aa-39a1-4331-fb15-78d32b256ede"
      },
      "source": [
        "cross_val = cross_validate(\n",
        "    estimator=model,\n",
        "    X=iris.data,y=iris.target,\n",
        "    cv=5\n",
        ")\n",
        "\n",
        "print('avg fit time: {} (+/- {})'.format(cross_val['fit_time'].mean(),cross_val['fit_time'].std()))\n",
        "print('avg score time: {} (+/- {})'.format(cross_val['score_time'].mean(),cross_val['score_time'].std()))\n",
        "print('avg test score: {} (+/- {})'.format(cross_val['test_score'].mean(),cross_val['test_score'].std()))"
      ],
      "execution_count": 70,
      "outputs": [
        {
          "output_type": "stream",
          "name": "stdout",
          "text": [
            "avg fit time: 0.20728797912597657 (+/- 0.09213599864751161)\n",
            "avg score time: 0.015032052993774414 (+/- 0.006622947991696905)\n",
            "avg test score: 0.9666666666666668 (+/- 0.02108185106778919)\n"
          ]
        }
      ]
    },
    {
      "cell_type": "code",
      "metadata": {
        "id": "Zb64WqN6_QGS",
        "colab": {
          "base_uri": "https://localhost:8080/"
        },
        "outputId": "9cb2de51-60af-470e-e3c8-2dcbd5d041a4"
      },
      "source": [
        "cross_val = cross_validate(\n",
        "    estimator=model,\n",
        "    X=wine.data,y=wine.target,\n",
        "    cv=5\n",
        ")\n",
        "\n",
        "print('avg fit time: {} (+/- {})'.format(cross_val['fit_time'].mean(),cross_val['fit_time'].std()))\n",
        "print('avg score time: {} (+/- {})'.format(cross_val['score_time'].mean(),cross_val['score_time'].std()))\n",
        "print('avg test score: {} (+/- {})'.format(cross_val['test_score'].mean(),cross_val['test_score'].std()))"
      ],
      "execution_count": 71,
      "outputs": [
        {
          "output_type": "stream",
          "name": "stdout",
          "text": [
            "avg fit time: 0.2541624069213867 (+/- 0.027696138918732616)\n",
            "avg score time: 0.021750116348266603 (+/- 0.005022856725341406)\n",
            "avg test score: 0.9665079365079364 (+/- 0.020746948644437477)\n"
          ]
        }
      ]
    },
    {
      "cell_type": "code",
      "metadata": {
        "id": "0bMs-TucC1CH",
        "colab": {
          "base_uri": "https://localhost:8080/"
        },
        "outputId": "28419e74-5616-42ea-edeb-bae4a58722a7"
      },
      "source": [
        "cross_val = cross_validate(\n",
        "    estimator=model,\n",
        "    X=cancer.data,y=cancer.target,\n",
        "    cv=5\n",
        ")\n",
        "\n",
        "print('avg fit time: {} (+/- {})'.format(cross_val['fit_time'].mean(),cross_val['fit_time'].std()))\n",
        "print('avg score time: {} (+/- {})'.format(cross_val['score_time'].mean(),cross_val['score_time'].std()))\n",
        "print('avg test score: {} (+/- {})'.format(cross_val['test_score'].mean(),cross_val['test_score'].std()))"
      ],
      "execution_count": 72,
      "outputs": [
        {
          "output_type": "stream",
          "name": "stdout",
          "text": [
            "avg fit time: 0.28337411880493163 (+/- 0.06098767842596553)\n",
            "avg score time: 0.014789104461669922 (+/- 0.004760125153471821)\n",
            "avg test score: 0.9613569321533924 (+/- 0.017156346386576565)\n"
          ]
        }
      ]
    },
    {
      "cell_type": "markdown",
      "metadata": {
        "id": "a3earvlLl2RE"
      },
      "source": [
        "### Random Forests 회귀"
      ]
    },
    {
      "cell_type": "code",
      "metadata": {
        "id": "KGx4DhJlmNpP"
      },
      "source": [
        "model = make_pipeline(\n",
        "    StandardScaler(),\n",
        "    RandomForestRegressor()\n",
        ")"
      ],
      "execution_count": 73,
      "outputs": []
    },
    {
      "cell_type": "code",
      "metadata": {
        "id": "1Jb0M9T9mQ6a",
        "colab": {
          "base_uri": "https://localhost:8080/"
        },
        "outputId": "26974764-e324-4370-c0f0-f9a61dcdbb04"
      },
      "source": [
        "cross_val = cross_validate(\n",
        "    estimator=model,\n",
        "    X=boston.data,y=boston.target,\n",
        "    cv=5\n",
        ")\n",
        "\n",
        "print('avg fit time: {} (+/- {})'.format(cross_val['fit_time'].mean(),cross_val['fit_time'].std()))\n",
        "print('avg score time: {} (+/- {})'.format(cross_val['score_time'].mean(),cross_val['score_time'].std()))\n",
        "print('avg test score: {} (+/- {})'.format(cross_val['test_score'].mean(),cross_val['test_score'].std()))"
      ],
      "execution_count": 74,
      "outputs": [
        {
          "output_type": "stream",
          "name": "stdout",
          "text": [
            "avg fit time: 0.432789945602417 (+/- 0.10525023711644972)\n",
            "avg score time: 0.012910604476928711 (+/- 0.003545037740743911)\n",
            "avg test score: 0.6442122448959771 (+/- 0.18596756576104057)\n"
          ]
        }
      ]
    },
    {
      "cell_type": "code",
      "metadata": {
        "id": "cfhpqlGdDLGP",
        "colab": {
          "base_uri": "https://localhost:8080/"
        },
        "outputId": "fff000b2-55d1-4f21-cb2e-18b5b8cc93a4"
      },
      "source": [
        "cross_val = cross_validate(\n",
        "    estimator=model,\n",
        "    X=diabetes.data,y=diabetes.target,\n",
        "    cv=5\n",
        ")\n",
        "\n",
        "print('avg fit time: {} (+/- {})'.format(cross_val['fit_time'].mean(),cross_val['fit_time'].std()))\n",
        "print('avg score time: {} (+/- {})'.format(cross_val['score_time'].mean(),cross_val['score_time'].std()))\n",
        "print('avg test score: {} (+/- {})'.format(cross_val['test_score'].mean(),cross_val['test_score'].std()))"
      ],
      "execution_count": 75,
      "outputs": [
        {
          "output_type": "stream",
          "name": "stdout",
          "text": [
            "avg fit time: 0.5182021141052247 (+/- 0.22248188915118416)\n",
            "avg score time: 0.018042469024658205 (+/- 0.012193115269378095)\n",
            "avg test score: 0.4143256934297538 (+/- 0.05037481139168299)\n"
          ]
        }
      ]
    },
    {
      "cell_type": "markdown",
      "metadata": {
        "id": "EBHcDHNvmot4"
      },
      "source": [
        "### Extremely Randomized Trees 분류"
      ]
    },
    {
      "cell_type": "code",
      "metadata": {
        "id": "B_ujy6vHm7H4"
      },
      "source": [
        "model = make_pipeline(\n",
        "    StandardScaler(),\n",
        "    ExtraTreesClassifier()\n",
        ")"
      ],
      "execution_count": 76,
      "outputs": []
    },
    {
      "cell_type": "code",
      "metadata": {
        "id": "pkzBXVMem_bM",
        "colab": {
          "base_uri": "https://localhost:8080/"
        },
        "outputId": "ba1af401-920d-4776-c097-5a1ad4f994e6"
      },
      "source": [
        "cross_val = cross_validate(\n",
        "    estimator=model,\n",
        "    X=iris.data,y=iris.target,\n",
        "    cv=5\n",
        ")\n",
        "\n",
        "print('avg fit time: {} (+/- {})'.format(cross_val['fit_time'].mean(),cross_val['fit_time'].std()))\n",
        "print('avg score time: {} (+/- {})'.format(cross_val['score_time'].mean(),cross_val['score_time'].std()))\n",
        "print('avg test score: {} (+/- {})'.format(cross_val['test_score'].mean(),cross_val['test_score'].std()))"
      ],
      "execution_count": 77,
      "outputs": [
        {
          "output_type": "stream",
          "name": "stdout",
          "text": [
            "avg fit time: 0.17716898918151855 (+/- 0.006372563329175366)\n",
            "avg score time: 0.018981504440307616 (+/- 0.0008321900746914683)\n",
            "avg test score: 0.9533333333333334 (+/- 0.03399346342395189)\n"
          ]
        }
      ]
    },
    {
      "cell_type": "code",
      "metadata": {
        "id": "iV9QX51m_Re6",
        "colab": {
          "base_uri": "https://localhost:8080/"
        },
        "outputId": "bd8cecad-b8cc-403c-d0e1-4905858d7dd0"
      },
      "source": [
        "cross_val = cross_validate(\n",
        "    estimator=model,\n",
        "    X=wine.data,y=wine.target,\n",
        "    cv=5\n",
        ")\n",
        "\n",
        "print('avg fit time: {} (+/- {})'.format(cross_val['fit_time'].mean(),cross_val['fit_time'].std()))\n",
        "print('avg score time: {} (+/- {})'.format(cross_val['score_time'].mean(),cross_val['score_time'].std()))\n",
        "print('avg test score: {} (+/- {})'.format(cross_val['test_score'].mean(),cross_val['test_score'].std()))"
      ],
      "execution_count": 78,
      "outputs": [
        {
          "output_type": "stream",
          "name": "stdout",
          "text": [
            "avg fit time: 0.22952799797058104 (+/- 0.06550384067740762)\n",
            "avg score time: 0.02263169288635254 (+/- 0.006139410827467931)\n",
            "avg test score: 0.9774603174603176 (+/- 0.011275428974716221)\n"
          ]
        }
      ]
    },
    {
      "cell_type": "code",
      "metadata": {
        "id": "qH_ZkUvlDbs2",
        "colab": {
          "base_uri": "https://localhost:8080/"
        },
        "outputId": "1438dda5-1aae-47a0-fbb1-360282e900df"
      },
      "source": [
        "cross_val = cross_validate(\n",
        "    estimator=model,\n",
        "    X=cancer.data,y=cancer.target,\n",
        "    cv=5\n",
        ")\n",
        "\n",
        "print('avg fit time: {} (+/- {})'.format(cross_val['fit_time'].mean(),cross_val['fit_time'].std()))\n",
        "print('avg score time: {} (+/- {})'.format(cross_val['score_time'].mean(),cross_val['score_time'].std()))\n",
        "print('avg test score: {} (+/- {})'.format(cross_val['test_score'].mean(),cross_val['test_score'].std()))"
      ],
      "execution_count": 79,
      "outputs": [
        {
          "output_type": "stream",
          "name": "stdout",
          "text": [
            "avg fit time: 0.2286306858062744 (+/- 0.037831352117453636)\n",
            "avg score time: 0.020541810989379884 (+/- 0.0007554168065815976)\n",
            "avg test score: 0.9648501785437045 (+/- 0.00784683560358965)\n"
          ]
        }
      ]
    },
    {
      "cell_type": "markdown",
      "metadata": {
        "id": "JspHMW4YnDON"
      },
      "source": [
        "### Extremely Randomized Trees 회귀"
      ]
    },
    {
      "cell_type": "code",
      "metadata": {
        "id": "6_dqUbdCnRbP"
      },
      "source": [
        "model = make_pipeline(\n",
        "    StandardScaler(),\n",
        "    ExtraTreesRegressor()\n",
        ")"
      ],
      "execution_count": 80,
      "outputs": []
    },
    {
      "cell_type": "code",
      "metadata": {
        "id": "SHfpp5NBnVDU",
        "colab": {
          "base_uri": "https://localhost:8080/"
        },
        "outputId": "fc894e0e-8854-4678-d7eb-8b4f16fb15d0"
      },
      "source": [
        "cross_val = cross_validate(\n",
        "    estimator=model,\n",
        "    X=boston.data,y=boston.target,\n",
        "    cv=5\n",
        ")\n",
        "\n",
        "print('avg fit time: {} (+/- {})'.format(cross_val['fit_time'].mean(),cross_val['fit_time'].std()))\n",
        "print('avg score time: {} (+/- {})'.format(cross_val['score_time'].mean(),cross_val['score_time'].std()))\n",
        "print('avg test score: {} (+/- {})'.format(cross_val['test_score'].mean(),cross_val['test_score'].std()))"
      ],
      "execution_count": 81,
      "outputs": [
        {
          "output_type": "stream",
          "name": "stdout",
          "text": [
            "avg fit time: 0.3629593372344971 (+/- 0.11775141042027237)\n",
            "avg score time: 0.01831974983215332 (+/- 0.001514763562195906)\n",
            "avg test score: 0.6164976099684571 (+/- 0.2666654044326473)\n"
          ]
        }
      ]
    },
    {
      "cell_type": "code",
      "metadata": {
        "id": "2CuQvitCDv77",
        "colab": {
          "base_uri": "https://localhost:8080/"
        },
        "outputId": "52212eee-f59d-4bb3-d896-d7c8e4fb0233"
      },
      "source": [
        "cross_val = cross_validate(\n",
        "    estimator=model,\n",
        "    X=diabetes.data,y=diabetes.target,\n",
        "    cv=5\n",
        ")\n",
        "\n",
        "print('avg fit time: {} (+/- {})'.format(cross_val['fit_time'].mean(),cross_val['fit_time'].std()))\n",
        "print('avg score time: {} (+/- {})'.format(cross_val['score_time'].mean(),cross_val['score_time'].std()))\n",
        "print('avg test score: {} (+/- {})'.format(cross_val['test_score'].mean(),cross_val['test_score'].std()))"
      ],
      "execution_count": 82,
      "outputs": [
        {
          "output_type": "stream",
          "name": "stdout",
          "text": [
            "avg fit time: 0.25980334281921386 (+/- 0.14286890154997928)\n",
            "avg score time: 0.016421794891357422 (+/- 0.011652802353792022)\n",
            "avg test score: 0.4388951211066138 (+/- 0.03189801412108793)\n"
          ]
        }
      ]
    },
    {
      "cell_type": "markdown",
      "metadata": {
        "id": "L4_4LPoirXV2"
      },
      "source": [
        "### Random Forest, Extra Tree 시각화\n",
        "\n",
        "* 결정 트리, Random Forest, Extra Tree의 결정 경계와 회귀식 시각화"
      ]
    },
    {
      "cell_type": "code",
      "metadata": {
        "id": "RH-wTt7PzpB_"
      },
      "source": [
        "import numpy as np\n",
        "import matplotlib.pyplot as plt\n",
        "plt.style.use(['seaborn-whitegrid'])\n",
        "from matplotlib.colors import ListedColormap\n",
        "from sklearn.tree import DecisionTreeClassifier"
      ],
      "execution_count": 83,
      "outputs": []
    },
    {
      "cell_type": "code",
      "metadata": {
        "id": "J-rQtFGZz3r7"
      },
      "source": [
        "n_classes = 3\n",
        "n_estimators = 30\n",
        "cmap = plt.cm.RdYlBu\n",
        "plot_step = 0.02\n",
        "plot_step_coarser =0.5\n",
        "RANDOM_SEED = 13"
      ],
      "execution_count": 84,
      "outputs": []
    },
    {
      "cell_type": "code",
      "metadata": {
        "id": "V7F-qnp60DO1"
      },
      "source": [
        "iris  = load_iris()\n",
        "plot_idx = 1\n",
        "models = [DecisionTreeClassifier(max_depth=None),\n",
        "          RandomForestClassifier(n_estimators=n_estimators),\n",
        "          ExtraTreesClassifier(n_estimators=n_estimators)]"
      ],
      "execution_count": 85,
      "outputs": []
    },
    {
      "cell_type": "code",
      "metadata": {
        "id": "frixj9rPnW5w",
        "colab": {
          "base_uri": "https://localhost:8080/",
          "height": 570
        },
        "outputId": "00695378-ef08-4497-fbbf-8e914c7caf3a"
      },
      "source": [
        "plt.figure(figsize=(16,8))\n",
        "\n",
        "for pair in ([0,1],[0,2],[2,3]):\n",
        "\n",
        "  for model in models:\n",
        "    \n",
        "    X = iris.data[:,pair]\n",
        "    y = iris.target\n",
        "\n",
        "    idx = np.arange(X.shape[0])\n",
        "    np.random.seed(RANDOM_SEED)\n",
        "    np.random.shuffle(idx)\n",
        "    X = X[idx]\n",
        "    y = y[idx]\n",
        "\n",
        "    mean = X.mean(axis = 0)\n",
        "    std = X.std(axis=0)\n",
        "    X = (X-mean)/std\n",
        "\n",
        "    model.fit(X,y)\n",
        "\n",
        "    model_title = str(type(model)).split(\".\")[-1][:-2][:-len(\"Classifier\")]\n",
        "    if plot_idx < 10:\n",
        "      plt.subplot(3, 3, plot_idx)\n",
        "    if plot_idx <= len(models):\n",
        "      plt.title(model_title,fontsize=9)\n",
        "    \n",
        "    x_min,x_max = X[:,0].min()-1,X[:,0].max()+1\n",
        "    y_min,y_max = X[:,1].min()-1,X[:,1].max()+1\n",
        "    xx,yy = np.meshgrid(np.arange(x_min,x_max,plot_step),\n",
        "                        np.arange(y_min,y_max,plot_step))\n",
        "    \n",
        "    if isinstance(model, DecisionTreeClassifier):\n",
        "      Z = model.predict(np.c_[xx.ravel(),yy.ravel()])\n",
        "      Z = Z.reshape(xx.shape)\n",
        "      cs = plt.contourf(xx,yy,Z,cmap=cmap)\n",
        "    else:\n",
        "      estimator_alpha = 1.0/len(model.estimators_)\n",
        "      for tree in model.estimators_:\n",
        "        Z = model.predict(np.c_[xx.ravel(),yy.ravel()])\n",
        "        Z = Z.reshape(xx.shape)\n",
        "        cs = plt.contourf(xx,yy,Z,alpha = estimator_alpha, cmap=cmap)\n",
        "\n",
        "    xx_coarser, yy_coarser = np.meshgrid(np.arange(x_min,x_max,plot_step_coarser),\n",
        "                                         np.arange(y_min,y_max,plot_step_coarser))\n",
        "    Z_points_coarser = model.predict(np.c_[xx_coarser.ravel(),\n",
        "                                           yy_coarser.ravel()]).reshape(xx_coarser.shape)\n",
        "    \n",
        "    cs_point = plt.scatter(xx_coarser,yy_coarser,s=15,\n",
        "                           c=Z_points_coarser,cmap=cmap,\n",
        "                           edgecolor='none')\n",
        "    \n",
        "    plt.scatter(X[:,0],X[:,1],c=y,\n",
        "                cmap=ListedColormap(['r','y','b']),\n",
        "                edgecolor='k',s=20)\n",
        "    plot_idx += 1\n",
        "\n",
        "plt.suptitle('Classifiers',fontsize=12)\n",
        "plt.axis('tight')\n",
        "plt.tight_layout(h_pad=0.2,w_pad=0.2,pad=2.5)\n",
        "plt.show()"
      ],
      "execution_count": 100,
      "outputs": [
        {
          "output_type": "display_data",
          "data": {
            "image/png": "[encoded data removed]",
            "text/plain": [
              "<Figure size 1152x576 with 1 Axes>"
            ]
          },
          "metadata": {}
        }
      ]
    },
    {
      "cell_type": "code",
      "metadata": {
        "id": "8nqpZSlUEf9P"
      },
      "source": [
        "plot_idx = 1\n",
        "models = [DecisionTreeRegressor(max_depth=None),\n",
        "          RandomForestRegressor(n_estimators=n_estimators),\n",
        "          ExtraTreesRegressor(n_estimators=n_estimators)]"
      ],
      "execution_count": 102,
      "outputs": []
    },
    {
      "cell_type": "code",
      "metadata": {
        "id": "LN5ECiI5EQmZ",
        "colab": {
          "base_uri": "https://localhost:8080/",
          "height": 570
        },
        "outputId": "7a756d30-1679-4e9c-8245-79314af06d6e"
      },
      "source": [
        "plt.figure(figsize=(16,8))\n",
        "\n",
        "for pair in (0,1,2):\n",
        "\n",
        "  for model in models:\n",
        "    X = boston.data[:,pair]\n",
        "    y = boston.target\n",
        "\n",
        "    idx = np.arange(X.shape[0])\n",
        "    np.random.seed(RANDOM_SEED)\n",
        "    np.random.shuffle(idx)\n",
        "    X = X[idx]\n",
        "    y = y[idx]\n",
        "\n",
        "    mean = X.mean(axis=0)\n",
        "    std = X.std(axis=0)\n",
        "    X = (X-mean)/std\n",
        "\n",
        "    model.fit(X.reshape(-1,1),y)\n",
        "\n",
        "    model.title = str(type(model)).split(\".\")[-1][:-2][:-len('Regressor')]\n",
        "\n",
        "    plt.subplot(3,3,plot_idx)\n",
        "    if plot_idx <= len(models):\n",
        "      plt.title(model_title,fontsize = 9)\n",
        "    \n",
        "    x_min,x_max = X.min()-1,X.max()+1\n",
        "    y_min,y_max = y.min()-1,y.max()+1\n",
        "    xx,yy = np.arange(x_min-1,x_max+1,plot_step),np.arange(y_min-1,y_max+1,plot_step)\n",
        "\n",
        "    if isinstance(model,DecisionTreeRegressor):\n",
        "      Z = model.predict(xx.reshape(-1,1))\n",
        "      cs = plt.plot(xx,Z)\n",
        "    else:\n",
        "      estimator_alpha = 1.0 / len(model.estimators_)\n",
        "      for tree in model.estimators_:\n",
        "        Z = tree.predict(xx.reshape(-1,1))\n",
        "        cs = plt.plot(xx,Z,alpha=estimator_alpha)\n",
        "      \n",
        "    plt.scatter(X,y,edgecolors='k',s=20)\n",
        "    plot_idx += 1\n",
        "  \n",
        "\n",
        "plt.suptitle('Regressor',fontsize=12)\n",
        "plt.axis('tight')\n",
        "plt.tight_layout(h_pad=0.2,w_pad=0.2,pad=2.5)\n",
        "plt.show()"
      ],
      "execution_count": 103,
      "outputs": [
        {
          "output_type": "display_data",
          "data": {
            "image/png": "[encoded data removed]",
            "text/plain": [
              "<Figure size 1152x576 with 9 Axes>"
            ]
          },
          "metadata": {}
        }
      ]
    },
    {
      "cell_type": "markdown",
      "metadata": {
        "id": "KBBCR19i3JNP"
      },
      "source": [
        "## AdaBoost\n",
        "\n",
        "* 대표적인 부스팅 알고리즘\n",
        "* 일련의 약한 모델들을 학습\n",
        "* 수정된 버전의 데이터를 반복 학습 (가중치가 적용된)\n",
        "* 가중치 투표(또는 합)을 통해 각 모델의 예측 값을 결합\n",
        "* 첫 단계에서는 원본 데이터를 학습하고 연속적인 반복마다 개별 샘플에 대한 가중치가 수정되고 다시 모델이 학습\n",
        "  * 잘못 예측된 샘플은 가중치 증가, 올바르게 예측된 샘플은 가중치 감소\n",
        "  * 각각의 약한 모델들은 예측하기 어려운 샘플에 집중하게 됨\n",
        "\n",
        "![AdaBoost](https://scikit-learn.org/stable/_images/sphx_glr_plot_adaboost_hastie_10_2_0011.png)"
      ]
    },
    {
      "cell_type": "code",
      "metadata": {
        "id": "5QjTkuxWrm2a"
      },
      "source": [
        "from sklearn.ensemble import AdaBoostClassifier\n",
        "from sklearn.ensemble import AdaBoostRegressor"
      ],
      "execution_count": 104,
      "outputs": []
    },
    {
      "cell_type": "markdown",
      "metadata": {
        "id": "Za_gsbAZ6o5j"
      },
      "source": [
        "### AdaBoost 분류"
      ]
    },
    {
      "cell_type": "code",
      "metadata": {
        "id": "4RHbd5Xs6K49"
      },
      "source": [
        "model = make_pipeline(\n",
        "    StandardScaler(),\n",
        "    AdaBoostClassifier()\n",
        ")"
      ],
      "execution_count": 105,
      "outputs": []
    },
    {
      "cell_type": "code",
      "metadata": {
        "id": "SQ0bYdUqHt23",
        "colab": {
          "base_uri": "https://localhost:8080/"
        },
        "outputId": "6f566496-3e97-4127-d275-897bf9dae4d4"
      },
      "source": [
        "cross_val = cross_validate(\n",
        "    estimator=model,\n",
        "    X=iris.data,y=iris.target,\n",
        "    cv=5\n",
        ")\n",
        "\n",
        "print('avg fit time: {} (+/- {})'.format(cross_val['fit_time'].mean(),cross_val['fit_time'].std()))\n",
        "print('avg score time: {} (+/- {})'.format(cross_val['score_time'].mean(),cross_val['score_time'].std()))\n",
        "print('avg test score: {} (+/- {})'.format(cross_val['test_score'].mean(),cross_val['test_score'].std()))"
      ],
      "execution_count": 106,
      "outputs": [
        {
          "output_type": "stream",
          "name": "stdout",
          "text": [
            "avg fit time: 0.11904559135437012 (+/- 0.0072171953963592415)\n",
            "avg score time: 0.016369390487670898 (+/- 0.006885736819932586)\n",
            "avg test score: 0.9466666666666667 (+/- 0.03399346342395189)\n"
          ]
        }
      ]
    },
    {
      "cell_type": "code",
      "metadata": {
        "id": "_7NzxxKr_UBY",
        "colab": {
          "base_uri": "https://localhost:8080/"
        },
        "outputId": "8e1d499f-f0c0-4033-b898-ed7e9cb5f41e"
      },
      "source": [
        "cross_val = cross_validate(\n",
        "    estimator=model,\n",
        "    X=wine.data,y=wine.target,\n",
        "    cv=5\n",
        ")\n",
        "\n",
        "print('avg fit time: {} (+/- {})'.format(cross_val['fit_time'].mean(),cross_val['fit_time'].std()))\n",
        "print('avg score time: {} (+/- {})'.format(cross_val['score_time'].mean(),cross_val['score_time'].std()))\n",
        "print('avg test score: {} (+/- {})'.format(cross_val['test_score'].mean(),cross_val['test_score'].std()))"
      ],
      "execution_count": 108,
      "outputs": [
        {
          "output_type": "stream",
          "name": "stdout",
          "text": [
            "avg fit time: 0.24551210403442383 (+/- 0.045334207593922336)\n",
            "avg score time: 0.03436436653137207 (+/- 0.015436975944038223)\n",
            "avg test score: 0.8085714285714285 (+/- 0.16822356718459935)\n"
          ]
        }
      ]
    },
    {
      "cell_type": "code",
      "metadata": {
        "id": "yk2jId1LH6Xl",
        "colab": {
          "base_uri": "https://localhost:8080/"
        },
        "outputId": "1473c7c8-8699-4de4-dbd0-1049f9d49be3"
      },
      "source": [
        "cross_val = cross_validate(\n",
        "    estimator=model,\n",
        "    X=cancer.data,y=cancer.target,\n",
        "    cv=5\n",
        ")\n",
        "\n",
        "print('avg fit time: {} (+/- {})'.format(cross_val['fit_time'].mean(),cross_val['fit_time'].std()))\n",
        "print('avg score time: {} (+/- {})'.format(cross_val['score_time'].mean(),cross_val['score_time'].std()))\n",
        "print('avg test score: {} (+/- {})'.format(cross_val['test_score'].mean(),cross_val['test_score'].std()))"
      ],
      "execution_count": 109,
      "outputs": [
        {
          "output_type": "stream",
          "name": "stdout",
          "text": [
            "avg fit time: 0.28219213485717776 (+/- 0.05151603427846851)\n",
            "avg score time: 0.015424680709838868 (+/- 0.00043178399572106624)\n",
            "avg test score: 0.9701133364384411 (+/- 0.019709915473893072)\n"
          ]
        }
      ]
    },
    {
      "cell_type": "markdown",
      "metadata": {
        "id": "NFx-ob7q6zK1"
      },
      "source": [
        "### AdaBoost 회귀"
      ]
    },
    {
      "cell_type": "code",
      "metadata": {
        "id": "xd3DBHFi68tC"
      },
      "source": [
        "model = make_pipeline(\n",
        "    StandardScaler(),\n",
        "    AdaBoostRegressor()\n",
        ")"
      ],
      "execution_count": 110,
      "outputs": []
    },
    {
      "cell_type": "code",
      "metadata": {
        "id": "W45kcSVKIJnq",
        "colab": {
          "base_uri": "https://localhost:8080/"
        },
        "outputId": "7da61d9b-7ab9-4e9f-a736-5c331f47d309"
      },
      "source": [
        "cross_val = cross_validate(\n",
        "    estimator=model,\n",
        "    X=boston.data,y=boston.target,\n",
        "    cv=5\n",
        ")\n",
        "\n",
        "print('avg fit time: {} (+/- {})'.format(cross_val['fit_time'].mean(),cross_val['fit_time'].std()))\n",
        "print('avg score time: {} (+/- {})'.format(cross_val['score_time'].mean(),cross_val['score_time'].std()))\n",
        "print('avg test score: {} (+/- {})'.format(cross_val['test_score'].mean(),cross_val['test_score'].std()))"
      ],
      "execution_count": 111,
      "outputs": [
        {
          "output_type": "stream",
          "name": "stdout",
          "text": [
            "avg fit time: 0.1625913143157959 (+/- 0.0066467120873823565)\n",
            "avg score time: 0.008217287063598634 (+/- 0.0004085606441807041)\n",
            "avg test score: 0.5736158247251903 (+/- 0.2318290404486307)\n"
          ]
        }
      ]
    },
    {
      "cell_type": "code",
      "metadata": {
        "id": "ka-BHFVWIMnQ",
        "colab": {
          "base_uri": "https://localhost:8080/"
        },
        "outputId": "a82846f6-2ccd-4389-af11-cc60f7fb05ed"
      },
      "source": [
        "cross_val = cross_validate(\n",
        "    estimator=model,\n",
        "    X=diabetes.data,y=diabetes.target,\n",
        "    cv=5\n",
        ")\n",
        "\n",
        "print('avg fit time: {} (+/- {})'.format(cross_val['fit_time'].mean(),cross_val['fit_time'].std()))\n",
        "print('avg score time: {} (+/- {})'.format(cross_val['score_time'].mean(),cross_val['score_time'].std()))\n",
        "print('avg test score: {} (+/- {})'.format(cross_val['test_score'].mean(),cross_val['test_score'].std()))"
      ],
      "execution_count": 112,
      "outputs": [
        {
          "output_type": "stream",
          "name": "stdout",
          "text": [
            "avg fit time: 0.07065529823303222 (+/- 0.01994175213969362)\n",
            "avg score time: 0.0036269187927246093 (+/- 0.0009458976484845703)\n",
            "avg test score: 0.428555219886759 (+/- 0.04273518486015783)\n"
          ]
        }
      ]
    },
    {
      "cell_type": "markdown",
      "metadata": {
        "id": "YeG2y1JB7T6z"
      },
      "source": [
        "## Gradient Tree Boosting\n",
        "\n",
        "* 임의의 차별화 가능한 손실함수로 일반화한 부스팅 알고리즘\n",
        "* 웹 검색, 분류 및 회귀 등 다양한 분야에서 모두 사용 가능"
      ]
    },
    {
      "cell_type": "code",
      "metadata": {
        "id": "0K_scQYk7DRm"
      },
      "source": [
        "from sklearn.ensemble import GradientBoostingClassifier,GradientBoostingRegressor"
      ],
      "execution_count": 113,
      "outputs": []
    },
    {
      "cell_type": "markdown",
      "metadata": {
        "id": "UnXayCIq-ANR"
      },
      "source": [
        "### Gradient Tree Boosting 분류"
      ]
    },
    {
      "cell_type": "code",
      "metadata": {
        "id": "US57OYu39_IS"
      },
      "source": [
        "model = make_pipeline(\n",
        "    StandardScaler(),\n",
        "    GradientBoostingClassifier()\n",
        ")"
      ],
      "execution_count": 116,
      "outputs": []
    },
    {
      "cell_type": "code",
      "metadata": {
        "id": "i5m3pir6Ia02",
        "colab": {
          "base_uri": "https://localhost:8080/"
        },
        "outputId": "d5064b43-6750-417c-857d-b8917fa55a50"
      },
      "source": [
        "cross_val = cross_validate(\n",
        "    estimator=model,\n",
        "    X=iris.data,y=iris.target,\n",
        "    cv=5\n",
        ")\n",
        "\n",
        "print('avg fit time: {} (+/- {})'.format(cross_val['fit_time'].mean(),cross_val['fit_time'].std()))\n",
        "print('avg score time: {} (+/- {})'.format(cross_val['score_time'].mean(),cross_val['score_time'].std()))\n",
        "print('avg test score: {} (+/- {})'.format(cross_val['test_score'].mean(),cross_val['test_score'].std()))"
      ],
      "execution_count": 117,
      "outputs": [
        {
          "output_type": "stream",
          "name": "stdout",
          "text": [
            "avg fit time: 0.21858611106872558 (+/- 0.009019078632011127)\n",
            "avg score time: 0.0013539314270019532 (+/- 8.649034789883671e-05)\n",
            "avg test score: 0.9666666666666668 (+/- 0.02108185106778919)\n"
          ]
        }
      ]
    },
    {
      "cell_type": "code",
      "metadata": {
        "id": "MmkKzQKU_WHg",
        "colab": {
          "base_uri": "https://localhost:8080/"
        },
        "outputId": "f2f09da8-d557-4e85-f372-321478f6d152"
      },
      "source": [
        "cross_val = cross_validate(\n",
        "    estimator=model,\n",
        "    X=wine.data,y=wine.target,\n",
        "    cv=5\n",
        ")\n",
        "\n",
        "print('avg fit time: {} (+/- {})'.format(cross_val['fit_time'].mean(),cross_val['fit_time'].std()))\n",
        "print('avg score time: {} (+/- {})'.format(cross_val['score_time'].mean(),cross_val['score_time'].std()))\n",
        "print('avg test score: {} (+/- {})'.format(cross_val['test_score'].mean(),cross_val['test_score'].std()))"
      ],
      "execution_count": 118,
      "outputs": [
        {
          "output_type": "stream",
          "name": "stdout",
          "text": [
            "avg fit time: 0.5471991062164306 (+/- 0.029334710231189248)\n",
            "avg score time: 0.002040719985961914 (+/- 7.58831468312983e-05)\n",
            "avg test score: 0.9330158730158731 (+/- 0.04127777701479872)\n"
          ]
        }
      ]
    },
    {
      "cell_type": "code",
      "metadata": {
        "id": "VBitsXUmIe9B",
        "colab": {
          "base_uri": "https://localhost:8080/"
        },
        "outputId": "279d6d82-fe75-4537-a22b-2d7703d2b18e"
      },
      "source": [
        "cross_val = cross_validate(\n",
        "    estimator=model,\n",
        "    X=cancer.data,y=cancer.target,\n",
        "    cv=5\n",
        ")\n",
        "\n",
        "print('avg fit time: {} (+/- {})'.format(cross_val['fit_time'].mean(),cross_val['fit_time'].std()))\n",
        "print('avg score time: {} (+/- {})'.format(cross_val['score_time'].mean(),cross_val['score_time'].std()))\n",
        "print('avg test score: {} (+/- {})'.format(cross_val['test_score'].mean(),cross_val['test_score'].std()))"
      ],
      "execution_count": 119,
      "outputs": [
        {
          "output_type": "stream",
          "name": "stdout",
          "text": [
            "avg fit time: 0.43094382286071775 (+/- 0.005674271009017253)\n",
            "avg score time: 0.0011425018310546875 (+/- 4.737275774772565e-05)\n",
            "avg test score: 0.9631268436578171 (+/- 0.021024240542234)\n"
          ]
        }
      ]
    },
    {
      "cell_type": "markdown",
      "metadata": {
        "id": "-DeP90dJ-Sy2"
      },
      "source": [
        "### Gradient Tree Boosting 회귀"
      ]
    },
    {
      "cell_type": "code",
      "metadata": {
        "id": "Cy3cq6VL-Q1v"
      },
      "source": [
        "model = make_pipeline(\n",
        "    StandardScaler(),\n",
        "    GradientBoostingRegressor()\n",
        ")"
      ],
      "execution_count": 120,
      "outputs": []
    },
    {
      "cell_type": "code",
      "metadata": {
        "id": "ZYw5ymXCIowr",
        "colab": {
          "base_uri": "https://localhost:8080/"
        },
        "outputId": "65a38b3b-e652-4cb1-beb8-b61ee147dc76"
      },
      "source": [
        "cross_val = cross_validate(\n",
        "    estimator=model,\n",
        "    X=boston.data,y=boston.target,\n",
        "    cv=5\n",
        ")\n",
        "\n",
        "print('avg fit time: {} (+/- {})'.format(cross_val['fit_time'].mean(),cross_val['fit_time'].std()))\n",
        "print('avg score time: {} (+/- {})'.format(cross_val['score_time'].mean(),cross_val['score_time'].std()))\n",
        "print('avg test score: {} (+/- {})'.format(cross_val['test_score'].mean(),cross_val['test_score'].std()))"
      ],
      "execution_count": 121,
      "outputs": [
        {
          "output_type": "stream",
          "name": "stdout",
          "text": [
            "avg fit time: 0.17938241958618165 (+/- 0.004945816934479563)\n",
            "avg score time: 0.0013797760009765625 (+/- 5.49020372863823e-05)\n",
            "avg test score: 0.6737600689366179 (+/- 0.16652623935536764)\n"
          ]
        }
      ]
    },
    {
      "cell_type": "code",
      "metadata": {
        "id": "S6gdorDUIsYv",
        "colab": {
          "base_uri": "https://localhost:8080/"
        },
        "outputId": "4a96b182-a3f4-4d6e-a564-6e73efbb393a"
      },
      "source": [
        "cross_val = cross_validate(\n",
        "    estimator=model,\n",
        "    X=diabetes.data,y=diabetes.target,\n",
        "    cv=5\n",
        ")\n",
        "\n",
        "print('avg fit time: {} (+/- {})'.format(cross_val['fit_time'].mean(),cross_val['fit_time'].std()))\n",
        "print('avg score time: {} (+/- {})'.format(cross_val['score_time'].mean(),cross_val['score_time'].std()))\n",
        "print('avg test score: {} (+/- {})'.format(cross_val['test_score'].mean(),cross_val['test_score'].std()))"
      ],
      "execution_count": 122,
      "outputs": [
        {
          "output_type": "stream",
          "name": "stdout",
          "text": [
            "avg fit time: 0.20897278785705567 (+/- 0.05139668737726697)\n",
            "avg score time: 0.0014959812164306641 (+/- 3.365119252315518e-05)\n",
            "avg test score: 0.40771104599268215 (+/- 0.07067980886431041)\n"
          ]
        }
      ]
    },
    {
      "cell_type": "markdown",
      "metadata": {
        "id": "u7RRhGKEBVdq"
      },
      "source": [
        "## 투표 기반 분류 (Voting Classifier)\n",
        "\n",
        "* 서로 다른 모델들의 결과를 투표를 통해 결합\n",
        "* 두가지 방법으로 투표 가능\n",
        "  * 가장 많이 예측된 클래스를 정답으로 채택 (hard voting)\n",
        "  * 예측된 확률의 가중치 평균 (soft voting)"
      ]
    },
    {
      "cell_type": "code",
      "metadata": {
        "id": "a5eAt-Yy-iBz"
      },
      "source": [
        "from sklearn.ensemble import VotingClassifier,VotingRegressor,RandomForestClassifier\n",
        "from sklearn.svm import SVC\n",
        "from sklearn.naive_bayes import GaussianNB\n",
        "from sklearn.model_selection import cross_val_score"
      ],
      "execution_count": 124,
      "outputs": []
    },
    {
      "cell_type": "code",
      "metadata": {
        "id": "toBoZ5I_EEy3"
      },
      "source": [
        "model1 = SVC()\n",
        "model2 = GaussianNB()\n",
        "model3 = RandomForestClassifier()\n",
        "vote_model = VotingClassifier(\n",
        "    estimators=[('svc',model1),('navie',model2),('forest',model3)],\n",
        "    voting='hard'\n",
        ")"
      ],
      "execution_count": 125,
      "outputs": []
    },
    {
      "cell_type": "code",
      "metadata": {
        "id": "jvwefdFDEYvz",
        "colab": {
          "base_uri": "https://localhost:8080/"
        },
        "outputId": "f5102ac7-0901-4827-d462-0ac52b611f62"
      },
      "source": [
        "for model in (model1,model2,model3,vote_model):\n",
        "  model_name = str(type(model)).split('.')[-1][:-2]\n",
        "  scores = cross_val_score(model,iris.data,iris.target,cv=5)\n",
        "  print(\"Accuracy: %0.2f (+/- %0.2f [%s]\"%(scores.mean(),scores.std(),model_name))"
      ],
      "execution_count": 127,
      "outputs": [
        {
          "output_type": "stream",
          "name": "stdout",
          "text": [
            "Accuracy: 0.97 (+/- 0.02 [SVC]\n",
            "Accuracy: 0.95 (+/- 0.03 [GaussianNB]\n",
            "Accuracy: 0.96 (+/- 0.02 [RandomForestClassifier]\n",
            "Accuracy: 0.96 (+/- 0.02 [VotingClassifier]\n"
          ]
        }
      ]
    },
    {
      "cell_type": "code",
      "metadata": {
        "id": "YNhj3WNzFCAb"
      },
      "source": [
        "model1 = SVC(probability=True)\n",
        "model2 = GaussianNB()\n",
        "model3 = RandomForestClassifier()\n",
        "vote_model = VotingClassifier(\n",
        "    estimators=[('svc',model1),('navie',model2),('forest',model3)],\n",
        "    voting='soft',\n",
        "    weights=[2,1,2]\n",
        ")"
      ],
      "execution_count": 128,
      "outputs": []
    },
    {
      "cell_type": "code",
      "metadata": {
        "id": "g89TYHdZOKL8",
        "colab": {
          "base_uri": "https://localhost:8080/"
        },
        "outputId": "1eea558a-2b55-4eae-b6cc-213cdeacc7e1"
      },
      "source": [
        "for model in (model1,model2,model3,vote_model):\n",
        "  model_name = str(type(model)).split('.')[-1][:-2]\n",
        "  scores = cross_val_score(model,iris.data,iris.target,cv=5)\n",
        "  print(\"Accuracy: %0.2f (+/- %0.2f [%s]\"%(scores.mean(),scores.std(),model_name))"
      ],
      "execution_count": 129,
      "outputs": [
        {
          "output_type": "stream",
          "name": "stdout",
          "text": [
            "Accuracy: 0.97 (+/- 0.02 [SVC]\n",
            "Accuracy: 0.95 (+/- 0.03 [GaussianNB]\n",
            "Accuracy: 0.96 (+/- 0.02 [RandomForestClassifier]\n",
            "Accuracy: 0.97 (+/- 0.02 [VotingClassifier]\n"
          ]
        }
      ]
    },
    {
      "cell_type": "markdown",
      "metadata": {
        "id": "cjNwB2zaPItX"
      },
      "source": [
        "### 결정 경계 시각화"
      ]
    },
    {
      "cell_type": "code",
      "metadata": {
        "id": "nn8lgvWYPner"
      },
      "source": [
        "from sklearn.tree import DecisionTreeClassifier\n",
        "from sklearn.neighbors import KNeighborsClassifier\n",
        "from sklearn.ensemble import VotingClassifier\n",
        "from itertools import product"
      ],
      "execution_count": 131,
      "outputs": []
    },
    {
      "cell_type": "code",
      "metadata": {
        "id": "SB_Bx4hKPs9-"
      },
      "source": [
        "X = iris.data[:,[0,2]]\n",
        "y = iris.target"
      ],
      "execution_count": 132,
      "outputs": []
    },
    {
      "cell_type": "code",
      "metadata": {
        "id": "FEpQ0g-0Pwn8"
      },
      "source": [
        "model1 = DecisionTreeClassifier(max_depth=4)\n",
        "model2 = KNeighborsClassifier(n_neighbors=7)\n",
        "model3 = SVC(gamma=.1,kernel='rbf',probability=True)\n",
        "vote_model = VotingClassifier(estimators=[('dt',model1),('knn',model2),('svc',model3)],\n",
        "                              voting='soft',weights=[2,1,2])\n",
        "\n",
        "model1 = model1.fit(X,y)\n",
        "model2 = model2.fit(X,y)\n",
        "model3 = model3.fit(X,y)\n",
        "vote_model = vote_model.fit(X,y)"
      ],
      "execution_count": 133,
      "outputs": []
    },
    {
      "cell_type": "code",
      "metadata": {
        "id": "z1o_9XWKQthC"
      },
      "source": [
        "x_min,x_max = X[:,0].min()-1,X[:,0].max()+1\n",
        "y_min,y_max = X[:,1].min()-1,X[:,1].max()+1\n",
        "xx,yy = np.meshgrid(np.arange(x_min,x_max,0.1),\n",
        "                    np.arange(y_min,y_max,0.1))"
      ],
      "execution_count": 134,
      "outputs": []
    },
    {
      "cell_type": "code",
      "metadata": {
        "id": "umDuzyVDOML5",
        "colab": {
          "base_uri": "https://localhost:8080/",
          "height": 494
        },
        "outputId": "f595480d-5ab7-4d34-fbf5-a6d48db4a1fd"
      },
      "source": [
        "f, axarr = plt.subplots(2,2,sharex='col',sharey='row',figsize=(12,8))\n",
        "\n",
        "for idx, model, tt in zip(product([0,1],[0,1]),\n",
        "                          [model1,model2,model3,vote_model],\n",
        "                          [\"Decision Tree (depth=4)\", 'KNN (k=7)',\n",
        "                           'Kernel SVM', 'Soft Voting']):\n",
        "  Z = model.predict(np.c_[xx.ravel(),yy.ravel()])\n",
        "  Z = Z.reshape(xx.shape)\n",
        "\n",
        "  axarr[idx[0],idx[1]].contourf(xx,yy,Z,alpha=0.4)\n",
        "  axarr[idx[0],idx[1]].scatter(X[:,0],X[:,1],c=y,s=20,edgecolor='k')\n",
        "  axarr[idx[0],idx[1]].set_title(tt)\n",
        "\n",
        "plt.show()\n",
        "  "
      ],
      "execution_count": 135,
      "outputs": [
        {
          "output_type": "display_data",
          "data": {
            "image/png": "[encoded data removed]",
            "text/plain": [
              "<Figure size 864x576 with 4 Axes>"
            ]
          },
          "metadata": {}
        }
      ]
    },
    {
      "cell_type": "markdown",
      "metadata": {
        "id": "0m5WCAyLSOdK"
      },
      "source": [
        "## 투표 기반 회귀 (Voting Regressor)\n",
        "\n",
        "* 서로 다른 모델의 예측 값의 평균을 사용"
      ]
    },
    {
      "cell_type": "code",
      "metadata": {
        "id": "uMQxrXDAPNuf"
      },
      "source": [
        "from sklearn.linear_model import LinearRegression\n",
        "from sklearn.ensemble import GradientBoostingRegressor, RandomForestRegressor, VotingRegressor"
      ],
      "execution_count": 136,
      "outputs": []
    },
    {
      "cell_type": "code",
      "metadata": {
        "id": "eKyebVgqUHdN"
      },
      "source": [
        "model1 = LinearRegression()\n",
        "model2 = GradientBoostingRegressor()\n",
        "model3 = RandomForestRegressor()\n",
        "vote_model = VotingRegressor(\n",
        "    estimators=[('LinearRegression',model1),('GradientBoostingRegressor',model2),('RandomForestRegressor',model3)],\n",
        "    weights=[1,1,1]\n",
        ")"
      ],
      "execution_count": 138,
      "outputs": []
    },
    {
      "cell_type": "code",
      "metadata": {
        "id": "aYMKZc96UGoA",
        "colab": {
          "base_uri": "https://localhost:8080/"
        },
        "outputId": "f5d7744f-0ee8-4842-e42e-fba0bd1c2acd"
      },
      "source": [
        "for model in (model1,model2,model3,vote_model):\n",
        "  model_name = str(type(model)).split('.')[-1][:-2]\n",
        "  scores = cross_val_score(model,boston.data,boston.target,cv=5)\n",
        "  print(\"R2: %0.2f (+/- %0.2f [%s]\"%(scores.mean(),scores.std(),model_name))"
      ],
      "execution_count": 139,
      "outputs": [
        {
          "output_type": "stream",
          "name": "stdout",
          "text": [
            "R2: 0.35 (+/- 0.38 [LinearRegression]\n",
            "R2: 0.68 (+/- 0.16 [GradientBoostingRegressor]\n",
            "R2: 0.61 (+/- 0.23 [RandomForestRegressor]\n",
            "R2: 0.66 (+/- 0.20 [VotingRegressor]\n"
          ]
        }
      ]
    },
    {
      "cell_type": "markdown",
      "metadata": {
        "id": "ArvS3YLlMgvM"
      },
      "source": [
        "### 회귀식 시각화"
      ]
    },
    {
      "cell_type": "code",
      "metadata": {
        "id": "NDby8qq_NpI6"
      },
      "source": [
        "X = boston.data[:,0].reshape(-1,1)\n",
        "y = boston.target"
      ],
      "execution_count": 140,
      "outputs": []
    },
    {
      "cell_type": "code",
      "metadata": {
        "id": "afUEA95cMfik"
      },
      "source": [
        "model1 = LinearRegression()\n",
        "model2 = GradientBoostingRegressor()\n",
        "model3 = RandomForestRegressor()\n",
        "vote_model = VotingRegressor(\n",
        "    estimators=[('LinearRegression',model1),('GradientBoostingRegressor',model2),('RandomForestRegressor',model3)],\n",
        "    weights=[1,1,1]\n",
        ")\n",
        "model1 = model1.fit(X,y)\n",
        "model2 = model2.fit(X,y)\n",
        "model3 = model3.fit(X,y)\n",
        "vote_model = vote_model.fit(X,y)\n"
      ],
      "execution_count": 142,
      "outputs": []
    },
    {
      "cell_type": "code",
      "metadata": {
        "id": "jsy4R-0PMwER"
      },
      "source": [
        "x_min,x_max = X[:,0].min()-1,X[:,0].max()+1\n",
        "xx = np.arange(x_min-1,x_max+1,0.1)"
      ],
      "execution_count": 143,
      "outputs": []
    },
    {
      "cell_type": "code",
      "metadata": {
        "id": "TjgHFKa8M8O9",
        "colab": {
          "base_uri": "https://localhost:8080/",
          "height": 494
        },
        "outputId": "adf394ed-81ba-4406-8ef8-f871f32922f5"
      },
      "source": [
        "f, axarr = plt.subplots(2,2,sharex='col',sharey='row',figsize=(12,8))\n",
        "\n",
        "for idx, model, tt in zip(product([0,1],[0,1]),\n",
        "                          [model1,model2,model3,vote_model],\n",
        "                          [\"LinearRegression\", 'GradientBoostingRegressor',\n",
        "                           'RandomForestRegressor', 'Voting']):\n",
        "  Z = model.predict(xx.reshape(-1,1))\n",
        "\n",
        "\n",
        "  axarr[idx[0],idx[1]].plot(xx,Z,c='r')\n",
        "  axarr[idx[0],idx[1]].scatter(X,y,s=20,edgecolor='k')\n",
        "  axarr[idx[0],idx[1]].set_title(tt)\n",
        "\n",
        "plt.show()"
      ],
      "execution_count": 144,
      "outputs": [
        {
          "output_type": "display_data",
          "data": {
            "image/png": "[encoded data removed]",
            "text/plain": [
              "<Figure size 864x576 with 4 Axes>"
            ]
          },
          "metadata": {}
        }
      ]
    },
    {
      "cell_type": "markdown",
      "metadata": {
        "id": "kWWPpi2hVaGe"
      },
      "source": [
        "## 스택 일반화 (Stacked Generalization)\n",
        "\n",
        "* 각 모델의 예측 값을 최종 모델의 입력으로 사용\n",
        "* 모델의 편향을 줄이는데 효과적"
      ]
    },
    {
      "cell_type": "markdown",
      "metadata": {
        "id": "EfJBCBFSXaa3"
      },
      "source": [
        "### 스택 회귀"
      ]
    },
    {
      "cell_type": "code",
      "metadata": {
        "id": "Ai4cpbSpUanA"
      },
      "source": [
        "from sklearn.linear_model import Ridge,Lasso\n",
        "from sklearn.svm import SVR\n",
        "from sklearn.ensemble import GradientBoostingRegressor,StackingRegressor"
      ],
      "execution_count": 145,
      "outputs": []
    },
    {
      "cell_type": "code",
      "metadata": {
        "id": "22wwT8jDXf6D"
      },
      "source": [
        "estimators = [('ridge',Ridge()),\n",
        "              ('lasso',Lasso()),\n",
        "              ('svr',SVR())]"
      ],
      "execution_count": 146,
      "outputs": []
    },
    {
      "cell_type": "code",
      "metadata": {
        "id": "GcWHiyQ7YAsh"
      },
      "source": [
        "reg = make_pipeline(\n",
        "    StandardScaler(),\n",
        "    StackingRegressor(\n",
        "        estimators=estimators,\n",
        "        final_estimator=GradientBoostingRegressor()\n",
        "    )\n",
        ")"
      ],
      "execution_count": 147,
      "outputs": []
    },
    {
      "cell_type": "code",
      "metadata": {
        "id": "IJskro0HYKOe",
        "colab": {
          "base_uri": "https://localhost:8080/"
        },
        "outputId": "0358532e-1e4a-4eb4-c223-c9864bf17b68"
      },
      "source": [
        "cross_val = cross_validate(\n",
        "    estimator=reg,\n",
        "    X=boston.data,y=boston.target,\n",
        "    cv=5\n",
        ")\n",
        "\n",
        "print('avg fit time: {} (+/- {})'.format(cross_val['fit_time'].mean(),cross_val['fit_time'].std()))\n",
        "print('avg score time: {} (+/- {})'.format(cross_val['score_time'].mean(),cross_val['score_time'].std()))\n",
        "print('avg test score: {} (+/- {})'.format(cross_val['test_score'].mean(),cross_val['test_score'].std()))"
      ],
      "execution_count": 149,
      "outputs": [
        {
          "output_type": "stream",
          "name": "stdout",
          "text": [
            "avg fit time: 0.24650826454162597 (+/- 0.007704695153656717)\n",
            "avg score time: 0.007128477096557617 (+/- 0.0001260240105285884)\n",
            "avg test score: 0.3217211771351089 (+/- 0.33534342097848735)\n"
          ]
        }
      ]
    },
    {
      "cell_type": "markdown",
      "metadata": {
        "id": "Is4akp2ePaax"
      },
      "source": [
        "#### 회귀식 시각화"
      ]
    },
    {
      "cell_type": "code",
      "metadata": {
        "id": "vzcOBF80Pd1q"
      },
      "source": [
        "X = boston.data[:,0].reshape(-1,1)\n",
        "y = boston.target"
      ],
      "execution_count": null,
      "outputs": []
    },
    {
      "cell_type": "code",
      "metadata": {
        "id": "-EjdXk9-Phm-"
      },
      "source": [
        "model1 = Ridge()\n",
        "model2 = Lasso()\n",
        "model3 = SVR()\n",
        "reg = StackingRegressor(\n",
        "        estimators=estimators,\n",
        "        final_estimator=GradientBoostingRegressor()\n",
        "    )\n",
        "model1 = model1.fit(X,y)\n",
        "model2 = model2.fit(X,y)\n",
        "model3 = model3.fit(X,y)\n",
        "reg_model = reg.fit(X,y)"
      ],
      "execution_count": 151,
      "outputs": []
    },
    {
      "cell_type": "code",
      "metadata": {
        "id": "DrC6uxPsP0Ga",
        "colab": {
          "base_uri": "https://localhost:8080/",
          "height": 494
        },
        "outputId": "334fea55-67a7-4502-c060-8bb0f66dad46"
      },
      "source": [
        "f, axarr = plt.subplots(2,2,sharex='col',sharey='row',figsize=(12,8))\n",
        "\n",
        "for idx, model, tt in zip(product([0,1],[0,1]),\n",
        "                          [model1,model2,model3,reg_model],\n",
        "                          [\"Ridge\", 'Lasso',\n",
        "                           'SVR', 'reg']):\n",
        "  Z = model.predict(xx.reshape(-1,1))\n",
        "\n",
        "\n",
        "  axarr[idx[0],idx[1]].plot(xx,Z,c='r')\n",
        "  axarr[idx[0],idx[1]].scatter(X,y,s=20,edgecolor='k')\n",
        "  axarr[idx[0],idx[1]].set_title(tt)\n",
        "\n",
        "plt.show()"
      ],
      "execution_count": 152,
      "outputs": [
        {
          "output_type": "display_data",
          "data": {
            "image/png": "[encoded data removed]",
            "text/plain": [
              "<Figure size 864x576 with 4 Axes>"
            ]
          },
          "metadata": {}
        }
      ]
    },
    {
      "cell_type": "markdown",
      "metadata": {
        "id": "qcDf7iN1ZybO"
      },
      "source": [
        "### 스택 분류"
      ]
    },
    {
      "cell_type": "code",
      "metadata": {
        "id": "_5HNrFRtZxqZ"
      },
      "source": [
        "from sklearn.linear_model import LogisticRegression\n",
        "from sklearn.svm import SVC\n",
        "from sklearn.naive_bayes import GaussianNB\n",
        "from sklearn.ensemble import RandomForestClassifier,StackingClassifier"
      ],
      "execution_count": 153,
      "outputs": []
    },
    {
      "cell_type": "code",
      "metadata": {
        "id": "IZn3h6vDaJ8i"
      },
      "source": [
        "estimators = [('logistic',LogisticRegression(max_iter=10000)),\n",
        "              ('svc',SVC()),\n",
        "              ('navie',GaussianNB())]"
      ],
      "execution_count": 154,
      "outputs": []
    },
    {
      "cell_type": "code",
      "metadata": {
        "id": "KTFUC1IsaarE"
      },
      "source": [
        "clf = StackingClassifier(\n",
        "    estimators=estimators,\n",
        "    final_estimator=RandomForestClassifier()\n",
        ")"
      ],
      "execution_count": 155,
      "outputs": []
    },
    {
      "cell_type": "code",
      "metadata": {
        "id": "oYhRPbcWanfY",
        "colab": {
          "base_uri": "https://localhost:8080/"
        },
        "outputId": "57aa14f6-a0a0-4d2b-f6cc-3483c48539e5"
      },
      "source": [
        "cross_val = cross_validate(\n",
        "    estimator=clf,\n",
        "    X=iris.data,y=iris.target,\n",
        "    cv=5\n",
        ")\n",
        "\n",
        "print('avg fit time: {} (+/- {})'.format(cross_val['fit_time'].mean(),cross_val['fit_time'].std()))\n",
        "print('avg score time: {} (+/- {})'.format(cross_val['score_time'].mean(),cross_val['score_time'].std()))\n",
        "print('avg test score: {} (+/- {})'.format(cross_val['test_score'].mean(),cross_val['test_score'].std()))"
      ],
      "execution_count": 156,
      "outputs": [
        {
          "output_type": "stream",
          "name": "stdout",
          "text": [
            "avg fit time: 0.5720314025878906 (+/- 0.03683791855664782)\n",
            "avg score time: 0.023945426940917967 (+/- 0.0029525998356974754)\n",
            "avg test score: 0.9666666666666666 (+/- 0.02108185106778919)\n"
          ]
        }
      ]
    },
    {
      "cell_type": "markdown",
      "metadata": {
        "id": "m2NyQnIqQxg9"
      },
      "source": [
        "#### 결정 경계 시각화"
      ]
    },
    {
      "cell_type": "code",
      "metadata": {
        "id": "1Bt4bmEET8dT"
      },
      "source": [
        "X = iris.data[:,[0,2]]\n",
        "y = iris.target"
      ],
      "execution_count": 157,
      "outputs": []
    },
    {
      "cell_type": "code",
      "metadata": {
        "id": "QJ4OpbHBT8dX"
      },
      "source": [
        "model1 = LogisticRegression(max_iter=10000)\n",
        "model2 = GaussianNB()\n",
        "model3 = SVC()\n",
        "stack = StackingClassifier(\n",
        "    estimators=estimators,\n",
        "    final_estimator=RandomForestClassifier()\n",
        ")\n",
        "\n",
        "model1 = model1.fit(X,y)\n",
        "model2 = model2.fit(X,y)\n",
        "model3 = model3.fit(X,y)\n",
        "stack = stack.fit(X,y)"
      ],
      "execution_count": 158,
      "outputs": []
    },
    {
      "cell_type": "code",
      "metadata": {
        "id": "6hq8q0raT8dX"
      },
      "source": [
        "x_min,x_max = X[:,0].min()-1,X[:,0].max()+1\n",
        "y_min,y_max = X[:,1].min()-1,X[:,1].max()+1\n",
        "xx,yy = np.meshgrid(np.arange(x_min,x_max,0.1),\n",
        "                    np.arange(y_min,y_max,0.1))"
      ],
      "execution_count": 159,
      "outputs": []
    },
    {
      "cell_type": "code",
      "metadata": {
        "colab": {
          "base_uri": "https://localhost:8080/",
          "height": 494
        },
        "outputId": "ca640a17-364c-4a48-dcce-5345613d2ccc",
        "id": "ZKQU-UDfT8dX"
      },
      "source": [
        "f, axarr = plt.subplots(2,2,sharex='col',sharey='row',figsize=(12,8))\n",
        "\n",
        "for idx, model, tt in zip(product([0,1],[0,1]),\n",
        "                          [model1,model2,model3,stack],\n",
        "                          [\"LogisticRegression (max_iter=10000)\", 'GaussianNB',\n",
        "                           'SVC', 'stack']):\n",
        "  Z = model.predict(np.c_[xx.ravel(),yy.ravel()])\n",
        "  Z = Z.reshape(xx.shape)\n",
        "\n",
        "  axarr[idx[0],idx[1]].contourf(xx,yy,Z,alpha=0.4)\n",
        "  axarr[idx[0],idx[1]].scatter(X[:,0],X[:,1],c=y,s=20,edgecolor='k')\n",
        "  axarr[idx[0],idx[1]].set_title(tt)\n",
        "\n",
        "plt.show()\n",
        "  "
      ],
      "execution_count": 161,
      "outputs": [
        {
          "output_type": "display_data",
          "data": {
            "image/png": "[encoded data removed]",
            "text/plain": [
              "<Figure size 864x576 with 4 Axes>"
            ]
          },
          "metadata": {}
        }
      ]
    }
  ]
}