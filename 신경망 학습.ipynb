{
  "nbformat": 4,
  "nbformat_minor": 0,
  "metadata": {
    "colab": {
      "name": "신경망 학습",
      "provenance": [],
      "collapsed_sections": [],
      "include_colab_link": true
    },
    "kernelspec": {
      "name": "python3",
      "display_name": "Python 3"
    },
    "widgets": {
      "application/vnd.jupyter.widget-state+json": {
        "da0577a2716d4483b29d6538ff1075f0": {
          "model_module": "@jupyter-widgets/controls",
          "model_name": "HBoxModel",
          "model_module_version": "1.5.0",
          "state": {
            "_view_name": "HBoxView",
            "_dom_classes": [],
            "_model_name": "HBoxModel",
            "_view_module": "@jupyter-widgets/controls",
            "_model_module_version": "1.5.0",
            "_view_count": null,
            "_view_module_version": "1.5.0",
            "box_style": "",
            "layout": "IPY_MODEL_6e1ee858122548aebc1251eedb13f292",
            "_model_module": "@jupyter-widgets/controls",
            "children": [
              "IPY_MODEL_71e76aa4692d445999b194436f35cd70",
              "IPY_MODEL_94fc8780e8ae4317b871f2ae32172d7f",
              "IPY_MODEL_a1442df6ad34466599e0b426902b032b"
            ]
          }
        },
        "6e1ee858122548aebc1251eedb13f292": {
          "model_module": "@jupyter-widgets/base",
          "model_name": "LayoutModel",
          "model_module_version": "1.2.0",
          "state": {
            "_view_name": "LayoutView",
            "grid_template_rows": null,
            "right": null,
            "justify_content": null,
            "_view_module": "@jupyter-widgets/base",
            "overflow": null,
            "_model_module_version": "1.2.0",
            "_view_count": null,
            "flex_flow": null,
            "width": null,
            "min_width": null,
            "border": null,
            "align_items": null,
            "bottom": null,
            "_model_module": "@jupyter-widgets/base",
            "top": null,
            "grid_column": null,
            "overflow_y": null,
            "overflow_x": null,
            "grid_auto_flow": null,
            "grid_area": null,
            "grid_template_columns": null,
            "flex": null,
            "_model_name": "LayoutModel",
            "justify_items": null,
            "grid_row": null,
            "max_height": null,
            "align_content": null,
            "visibility": null,
            "align_self": null,
            "height": null,
            "min_height": null,
            "padding": null,
            "grid_auto_rows": null,
            "grid_gap": null,
            "max_width": null,
            "order": null,
            "_view_module_version": "1.2.0",
            "grid_template_areas": null,
            "object_position": null,
            "object_fit": null,
            "grid_auto_columns": null,
            "margin": null,
            "display": null,
            "left": null
          }
        },
        "71e76aa4692d445999b194436f35cd70": {
          "model_module": "@jupyter-widgets/controls",
          "model_name": "HTMLModel",
          "model_module_version": "1.5.0",
          "state": {
            "_view_name": "HTMLView",
            "style": "IPY_MODEL_960a894e5aae473d826a0a90f5432e8a",
            "_dom_classes": [],
            "description": "",
            "_model_name": "HTMLModel",
            "placeholder": "​",
            "_view_module": "@jupyter-widgets/controls",
            "_model_module_version": "1.5.0",
            "value": "100%",
            "_view_count": null,
            "_view_module_version": "1.5.0",
            "description_tooltip": null,
            "_model_module": "@jupyter-widgets/controls",
            "layout": "IPY_MODEL_f47005ef06eb4bc8bf22500df0487861"
          }
        },
        "94fc8780e8ae4317b871f2ae32172d7f": {
          "model_module": "@jupyter-widgets/controls",
          "model_name": "FloatProgressModel",
          "model_module_version": "1.5.0",
          "state": {
            "_view_name": "ProgressView",
            "style": "IPY_MODEL_99d74eda7e1344098326f3ca61e3758c",
            "_dom_classes": [],
            "description": "",
            "_model_name": "FloatProgressModel",
            "bar_style": "success",
            "max": 2,
            "_view_module": "@jupyter-widgets/controls",
            "_model_module_version": "1.5.0",
            "value": 2,
            "_view_count": null,
            "_view_module_version": "1.5.0",
            "orientation": "horizontal",
            "min": 0,
            "description_tooltip": null,
            "_model_module": "@jupyter-widgets/controls",
            "layout": "IPY_MODEL_4bbf5a0ec44644a0a9cdfd558a8e630b"
          }
        },
        "a1442df6ad34466599e0b426902b032b": {
          "model_module": "@jupyter-widgets/controls",
          "model_name": "HTMLModel",
          "model_module_version": "1.5.0",
          "state": {
            "_view_name": "HTMLView",
            "style": "IPY_MODEL_f47c8fa126d846bf834c078cd40fd688",
            "_dom_classes": [],
            "description": "",
            "_model_name": "HTMLModel",
            "placeholder": "​",
            "_view_module": "@jupyter-widgets/controls",
            "_model_module_version": "1.5.0",
            "value": " 2/2 [03:20&lt;00:00, 100.26s/it]",
            "_view_count": null,
            "_view_module_version": "1.5.0",
            "description_tooltip": null,
            "_model_module": "@jupyter-widgets/controls",
            "layout": "IPY_MODEL_fa28e414289a4541984f248f6b17639e"
          }
        },
        "960a894e5aae473d826a0a90f5432e8a": {
          "model_module": "@jupyter-widgets/controls",
          "model_name": "DescriptionStyleModel",
          "model_module_version": "1.5.0",
          "state": {
            "_view_name": "StyleView",
            "_model_name": "DescriptionStyleModel",
            "description_width": "",
            "_view_module": "@jupyter-widgets/base",
            "_model_module_version": "1.5.0",
            "_view_count": null,
            "_view_module_version": "1.2.0",
            "_model_module": "@jupyter-widgets/controls"
          }
        },
        "f47005ef06eb4bc8bf22500df0487861": {
          "model_module": "@jupyter-widgets/base",
          "model_name": "LayoutModel",
          "model_module_version": "1.2.0",
          "state": {
            "_view_name": "LayoutView",
            "grid_template_rows": null,
            "right": null,
            "justify_content": null,
            "_view_module": "@jupyter-widgets/base",
            "overflow": null,
            "_model_module_version": "1.2.0",
            "_view_count": null,
            "flex_flow": null,
            "width": null,
            "min_width": null,
            "border": null,
            "align_items": null,
            "bottom": null,
            "_model_module": "@jupyter-widgets/base",
            "top": null,
            "grid_column": null,
            "overflow_y": null,
            "overflow_x": null,
            "grid_auto_flow": null,
            "grid_area": null,
            "grid_template_columns": null,
            "flex": null,
            "_model_name": "LayoutModel",
            "justify_items": null,
            "grid_row": null,
            "max_height": null,
            "align_content": null,
            "visibility": null,
            "align_self": null,
            "height": null,
            "min_height": null,
            "padding": null,
            "grid_auto_rows": null,
            "grid_gap": null,
            "max_width": null,
            "order": null,
            "_view_module_version": "1.2.0",
            "grid_template_areas": null,
            "object_position": null,
            "object_fit": null,
            "grid_auto_columns": null,
            "margin": null,
            "display": null,
            "left": null
          }
        },
        "99d74eda7e1344098326f3ca61e3758c": {
          "model_module": "@jupyter-widgets/controls",
          "model_name": "ProgressStyleModel",
          "model_module_version": "1.5.0",
          "state": {
            "_view_name": "StyleView",
            "_model_name": "ProgressStyleModel",
            "description_width": "",
            "_view_module": "@jupyter-widgets/base",
            "_model_module_version": "1.5.0",
            "_view_count": null,
            "_view_module_version": "1.2.0",
            "bar_color": null,
            "_model_module": "@jupyter-widgets/controls"
          }
        },
        "4bbf5a0ec44644a0a9cdfd558a8e630b": {
          "model_module": "@jupyter-widgets/base",
          "model_name": "LayoutModel",
          "model_module_version": "1.2.0",
          "state": {
            "_view_name": "LayoutView",
            "grid_template_rows": null,
            "right": null,
            "justify_content": null,
            "_view_module": "@jupyter-widgets/base",
            "overflow": null,
            "_model_module_version": "1.2.0",
            "_view_count": null,
            "flex_flow": null,
            "width": null,
            "min_width": null,
            "border": null,
            "align_items": null,
            "bottom": null,
            "_model_module": "@jupyter-widgets/base",
            "top": null,
            "grid_column": null,
            "overflow_y": null,
            "overflow_x": null,
            "grid_auto_flow": null,
            "grid_area": null,
            "grid_template_columns": null,
            "flex": null,
            "_model_name": "LayoutModel",
            "justify_items": null,
            "grid_row": null,
            "max_height": null,
            "align_content": null,
            "visibility": null,
            "align_self": null,
            "height": null,
            "min_height": null,
            "padding": null,
            "grid_auto_rows": null,
            "grid_gap": null,
            "max_width": null,
            "order": null,
            "_view_module_version": "1.2.0",
            "grid_template_areas": null,
            "object_position": null,
            "object_fit": null,
            "grid_auto_columns": null,
            "margin": null,
            "display": null,
            "left": null
          }
        },
        "f47c8fa126d846bf834c078cd40fd688": {
          "model_module": "@jupyter-widgets/controls",
          "model_name": "DescriptionStyleModel",
          "model_module_version": "1.5.0",
          "state": {
            "_view_name": "StyleView",
            "_model_name": "DescriptionStyleModel",
            "description_width": "",
            "_view_module": "@jupyter-widgets/base",
            "_model_module_version": "1.5.0",
            "_view_count": null,
            "_view_module_version": "1.2.0",
            "_model_module": "@jupyter-widgets/controls"
          }
        },
        "fa28e414289a4541984f248f6b17639e": {
          "model_module": "@jupyter-widgets/base",
          "model_name": "LayoutModel",
          "model_module_version": "1.2.0",
          "state": {
            "_view_name": "LayoutView",
            "grid_template_rows": null,
            "right": null,
            "justify_content": null,
            "_view_module": "@jupyter-widgets/base",
            "overflow": null,
            "_model_module_version": "1.2.0",
            "_view_count": null,
            "flex_flow": null,
            "width": null,
            "min_width": null,
            "border": null,
            "align_items": null,
            "bottom": null,
            "_model_module": "@jupyter-widgets/base",
            "top": null,
            "grid_column": null,
            "overflow_y": null,
            "overflow_x": null,
            "grid_auto_flow": null,
            "grid_area": null,
            "grid_template_columns": null,
            "flex": null,
            "_model_name": "LayoutModel",
            "justify_items": null,
            "grid_row": null,
            "max_height": null,
            "align_content": null,
            "visibility": null,
            "align_self": null,
            "height": null,
            "min_height": null,
            "padding": null,
            "grid_auto_rows": null,
            "grid_gap": null,
            "max_width": null,
            "order": null,
            "_view_module_version": "1.2.0",
            "grid_template_areas": null,
            "object_position": null,
            "object_fit": null,
            "grid_auto_columns": null,
            "margin": null,
            "display": null,
            "left": null
          }
        }
      }
    }
  },
  "cells": [
    {
      "cell_type": "markdown",
      "metadata": {
        "id": "view-in-github",
        "colab_type": "text"
      },
      "source": [
        "<a href=\"https://colab.research.google.com/github/kimujinu/Machine-learning/blob/main/%EC%8B%A0%EA%B2%BD%EB%A7%9D%20%ED%95%99%EC%8A%B5.ipynb\" target=\"_parent\"><img src=\"https://colab.research.google.com/assets/colab-badge.svg\" alt=\"Open In Colab\"/></a>"
      ]
    },
    {
      "cell_type": "markdown",
      "metadata": {
        "id": "nyjyu4FzUAVw"
      },
      "source": [
        "# 신경망 학습"
      ]
    },
    {
      "cell_type": "markdown",
      "metadata": {
        "id": "VQvNez4qydhL"
      },
      "source": [
        "## 단순한 신경망 구현 : Logic Gate"
      ]
    },
    {
      "cell_type": "markdown",
      "metadata": {
        "id": "-7te43hqyiiJ"
      },
      "source": [
        "### 필요한 모듈 import"
      ]
    },
    {
      "cell_type": "code",
      "metadata": {
        "id": "Qf2F_YbdybBE"
      },
      "source": [
        "import numpy as np\n",
        "import matplotlib .pyplot as plt\n",
        "plt.style.use(['seaborn-whitegrid'])"
      ],
      "execution_count": 1,
      "outputs": []
    },
    {
      "cell_type": "markdown",
      "metadata": {
        "id": "orUoPmDcymhj"
      },
      "source": [
        "### 하이퍼 파라미터(Hyper Parameter)"
      ]
    },
    {
      "cell_type": "code",
      "metadata": {
        "id": "bOAmMxo0ymDF"
      },
      "source": [
        "epochs = 1000\n",
        "lr = 0.1"
      ],
      "execution_count": 2,
      "outputs": []
    },
    {
      "cell_type": "markdown",
      "metadata": {
        "id": "BjmLWgFVysnq"
      },
      "source": [
        "### 유틸 함수들(Util Functions)"
      ]
    },
    {
      "cell_type": "code",
      "metadata": {
        "id": "Y4OMFGrjyq1c"
      },
      "source": [
        "def sigmoid(x):\n",
        "  return 1/(1+np.exp(-x))\n",
        "\n",
        "def mean_squared_error(pred_y,true_y):\n",
        "  return 0.5 * (np.sum((true_y - pred_y)**2))\n",
        "\n",
        "def cross_entropy_error(pred_y,true_y):\n",
        "  if true_y.ndim==1:\n",
        "    true_y = true_y.reshape(1,-1)\n",
        "    pred_y = pred_y.reshape(1,-1)\n",
        "  \n",
        "  delta = 1e-7\n",
        "  return -np.sum(true_y + np.log(pred_y + delta))\n",
        "\n",
        "def cross_entropy_error_for_batch(pred_y,true_y):\n",
        "  if true_y.ndim==1:\n",
        "    true_y = true_y.reshape(1,-1)\n",
        "    pred_y = pred_y.reshape(1,-1)\n",
        "  \n",
        "  delta = 1e-7\n",
        "  batch_size = pred_y.shape[0]\n",
        "  return -np.sum(true_y + np.log(pred_y + delta))\n",
        "\n",
        "def cross_entropy_error_for_bin(pred_y,true_y):\n",
        "  return 0.5 * np.sum((-true_y * np.log(pred_y) - (1-true_y) * np.log(1-pred_y)))\n",
        "\n",
        "def softmax(a):\n",
        "  exp_a = np.exp(a)\n",
        "  sum_exp_a = np.sum(exp_a)\n",
        "  y = exp_a / sum_exp_a\n",
        "\n",
        "  return y\n",
        "\n",
        "def differential(f,x):\n",
        "  eps = 1e-5\n",
        "  diff_value = np.zeros_like(x)\n",
        "\n",
        "  for i in range(x.shape[0]):\n",
        "    temp_val = x[i]\n",
        "    x[i] = temp_val + eps\n",
        "    f_h1 = f(x)\n",
        "\n",
        "    x[i] = temp_val - eps\n",
        "    f_h2 = f(x)\n",
        "\n",
        "    diff_value[i] = (f_h1-f_h2) / (2*eps)\n",
        "    x[i] = temp_val\n",
        "\n",
        "  return diff_value"
      ],
      "execution_count": 4,
      "outputs": []
    },
    {
      "cell_type": "markdown",
      "metadata": {
        "id": "h5Z2LTT_y3i5"
      },
      "source": [
        "### 신경망"
      ]
    },
    {
      "cell_type": "code",
      "metadata": {
        "id": "gMTjjYgdy3D8"
      },
      "source": [
        "class LogicGateNet():\n",
        "\n",
        "  def __init__(self):\n",
        "    def weight_init():\n",
        "      np.random.seed(1)\n",
        "      weights = np.random.randn(2)\n",
        "      bias = np.random.rand(1)\n",
        "\n",
        "      return weights,bias\n",
        "    \n",
        "    self.weights, self.bias = weight_init()\n",
        "  \n",
        "  def predict(self,x):\n",
        "    W = self.weights.reshape(-1,1)\n",
        "    b = self.bias\n",
        "\n",
        "    pred_y = sigmoid(np.dot(x,W)+b)\n",
        "    return pred_y\n",
        "\n",
        "  def loss(self,x,true_y):\n",
        "    pred_y = self.predict(x)\n",
        "    return cross_entropy_error_for_bin(pred_y,true_y)\n",
        "  \n",
        "  def get_gradient(self,x,t):\n",
        "    def loss_grad(grad):\n",
        "      return self.loss(x,t)\n",
        "    \n",
        "    grad_W = differential(loss_grad,self.weights)\n",
        "    grad_B = differential(loss_grad,self.bias)\n",
        "\n",
        "    return grad_W,grad_B\n"
      ],
      "execution_count": 7,
      "outputs": []
    },
    {
      "cell_type": "markdown",
      "metadata": {
        "id": "wbNDoH_3zbGZ"
      },
      "source": [
        "### AND Gate"
      ]
    },
    {
      "cell_type": "markdown",
      "metadata": {
        "id": "2P-ib8_RzHTh"
      },
      "source": [
        "#### 모델 생성 및 학습"
      ]
    },
    {
      "cell_type": "code",
      "metadata": {
        "id": "rRiaACA6zGom",
        "colab": {
          "base_uri": "https://localhost:8080/"
        },
        "outputId": "d0711b00-fbd0-4695-c137-18409bd6a405"
      },
      "source": [
        "AND = LogicGateNet()\n",
        "\n",
        "X = np.array([[0,0],[0,1],[1,0],[1,1]])\n",
        "Y = np.array([[0],[0],[0],[1]])\n",
        "\n",
        "train_loss_list = list()\n",
        "\n",
        "for i in range(epochs):\n",
        "  grad_W, grad_B = AND.get_gradient(X,Y)\n",
        "\n",
        "  AND.weights -= lr * grad_W\n",
        "  AND.bias -= lr * grad_B\n",
        "\n",
        "  loss = AND.loss(X,Y)\n",
        "  train_loss_list.append(loss)\n",
        "\n",
        "  if i%100 == 99:\n",
        "    print(\"Epoch : {}, Cost : {}, weights : {}, Bias : {}\".format(i+1,loss,AND.weights,AND.bias))"
      ],
      "execution_count": 8,
      "outputs": [
        {
          "output_type": "stream",
          "name": "stdout",
          "text": [
            "Epoch : 100, Cost : 0.6886489498077508, weights : [1.56426876 0.79168393], Bias : [-2.14871589]\n",
            "Epoch : 200, Cost : 0.4946368603067626, weights : [2.01360719 1.71241131], Bias : [-3.07894028]\n",
            "Epoch : 300, Cost : 0.3920165980751678, weights : [2.42841657 2.29753793], Bias : [-3.79103207]\n",
            "Epoch : 400, Cost : 0.3257214374794629, weights : [2.794852   2.73235738], Bias : [-4.37257095]\n",
            "Epoch : 500, Cost : 0.2786360133470194, weights : [3.11636193 3.08408364], Bias : [-4.86571237]\n",
            "Epoch : 600, Cost : 0.24328504683857205, weights : [3.40015395 3.38235762], Bias : [-5.29433736]\n",
            "Epoch : 700, Cost : 0.2157253655246455, weights : [3.65300561 3.64264217], Bias : [-5.67349792]\n",
            "Epoch : 800, Cost : 0.19363244428376314, weights : [3.88044124 3.87412053], Bias : [-6.01340133]\n",
            "Epoch : 900, Cost : 0.175532131279099, weights : [4.08680123 4.08279091], Bias : [-6.32133891]\n",
            "Epoch : 1000, Cost : 0.16043926933305935, weights : [4.27548114 4.27284863], Bias : [-6.6027234]\n"
          ]
        }
      ]
    },
    {
      "cell_type": "markdown",
      "metadata": {
        "id": "PZoyQv_czT7R"
      },
      "source": [
        "#### 테스트"
      ]
    },
    {
      "cell_type": "code",
      "metadata": {
        "id": "-7CvWgc9zREa",
        "colab": {
          "base_uri": "https://localhost:8080/"
        },
        "outputId": "aed84eb3-47d0-45a3-a57e-4ee5d1600ece"
      },
      "source": [
        "print(AND.predict(X))"
      ],
      "execution_count": 9,
      "outputs": [
        {
          "output_type": "stream",
          "name": "stdout",
          "text": [
            "[[0.00135483]\n",
            " [0.08867878]\n",
            " [0.08889176]\n",
            " [0.87496677]]\n"
          ]
        }
      ]
    },
    {
      "cell_type": "markdown",
      "metadata": {
        "id": "HoMXNiXWzts-"
      },
      "source": [
        "### OR Gate"
      ]
    },
    {
      "cell_type": "markdown",
      "metadata": {
        "id": "DZ79pc4jzw3O"
      },
      "source": [
        "#### 모델 생성 및 학습"
      ]
    },
    {
      "cell_type": "code",
      "metadata": {
        "id": "8gnLmAyQzuoL",
        "colab": {
          "base_uri": "https://localhost:8080/"
        },
        "outputId": "2dcf8211-8df1-4d18-e910-b2b04c52251a"
      },
      "source": [
        "OR = LogicGateNet()\n",
        "X = np.array([[0,0],[0,1],[1,0],[1,1]])\n",
        "Y_2 = np.array([[0],[1],[1],[1]])\n",
        "\n",
        "train_loss_list = list()\n",
        "\n",
        "for i in range(epochs):\n",
        "  grad_W, grad_B = OR.get_gradient(X,Y_2)\n",
        "\n",
        "  OR.weights -= lr * grad_W\n",
        "  OR.bias -= lr * grad_B\n",
        "\n",
        "  loss = OR.loss(X,Y_2)\n",
        "  train_loss_list.append(loss)\n",
        "\n",
        "  if i % 100 == 99:\n",
        "    print(\"Epoch : {}, Cost : {}, weights : {}, Bias : {}\".format(i+1,loss,OR.weights,OR.bias))"
      ],
      "execution_count": 10,
      "outputs": [
        {
          "output_type": "stream",
          "name": "stdout",
          "text": [
            "Epoch : 100, Cost : 0.49580923848037245, weights : [2.45484353 1.40566594], Bias : [-0.14439625]\n",
            "Epoch : 200, Cost : 0.3398674231512476, weights : [2.98631846 2.39448393], Bias : [-0.67661178]\n",
            "Epoch : 300, Cost : 0.2573360986184237, weights : [3.45016595 3.08431266], Bias : [-1.03721585]\n",
            "Epoch : 400, Cost : 0.20630142190061632, weights : [3.85230067 3.60865952], Bias : [-1.30598633]\n",
            "Epoch : 500, Cost : 0.1716549922114765, weights : [4.20195872 4.03000824], Bias : [-1.52060015]\n",
            "Epoch : 600, Cost : 0.14665018845489367, weights : [4.50867681 4.38171478], Bias : [-1.6994397]\n",
            "Epoch : 700, Cost : 0.12779768649443757, weights : [4.78049264 4.68334611], Bias : [-1.8527641]\n",
            "Epoch : 800, Cost : 0.11310517185394649, weights : [5.0237707 4.9472786], Bias : [-1.98691756]\n",
            "Epoch : 900, Cost : 0.10135180918369109, weights : [5.24347159 5.18181684], Bias : [-2.10611973]\n",
            "Epoch : 1000, Cost : 0.09174843008614507, weights : [5.44346811 5.39279833], Bias : [-2.21332947]\n"
          ]
        }
      ]
    },
    {
      "cell_type": "markdown",
      "metadata": {
        "id": "jWmEtX_VnLSI"
      },
      "source": [
        "#### 테스트"
      ]
    },
    {
      "cell_type": "code",
      "metadata": {
        "id": "JwPpOs3-z2vU",
        "colab": {
          "base_uri": "https://localhost:8080/"
        },
        "outputId": "ad2f28ed-8b4e-4e1b-bc10-9419afa8097d"
      },
      "source": [
        "print(OR.predict(X))"
      ],
      "execution_count": 11,
      "outputs": [
        {
          "output_type": "stream",
          "name": "stdout",
          "text": [
            "[[0.09855987]\n",
            " [0.9600543 ]\n",
            " [0.96195283]\n",
            " [0.9998201 ]]\n"
          ]
        }
      ]
    },
    {
      "cell_type": "markdown",
      "metadata": {
        "id": "JEBhczCIz57Q"
      },
      "source": [
        "### NAND Gate"
      ]
    },
    {
      "cell_type": "markdown",
      "metadata": {
        "id": "TzQaaHKKz8sZ"
      },
      "source": [
        "#### 모델 생성 및 학습"
      ]
    },
    {
      "cell_type": "code",
      "metadata": {
        "id": "h463QUQRz8PS",
        "colab": {
          "base_uri": "https://localhost:8080/"
        },
        "outputId": "36ed1814-5404-4ce6-c0f4-fa6716e2520a"
      },
      "source": [
        "NAND = LogicGateNet()\n",
        "X = np.array([[0,0],[0,1],[1,0],[1,1]])\n",
        "Y_2 = np.array([[1],[1],[1],[0]])\n",
        "\n",
        "train_loss_list = list()\n",
        "\n",
        "for i in range(epochs):\n",
        "  grad_W, grad_B = NAND.get_gradient(X,Y_2)\n",
        "\n",
        "  NAND.weights -= lr * grad_W\n",
        "  NAND.bias -= lr * grad_B\n",
        "\n",
        "  loss = NAND.loss(X,Y_2)\n",
        "  train_loss_list.append(loss)\n",
        "\n",
        "  if i % 100 == 99:\n",
        "    print(\"Epoch : {}, Cost : {}, weights : {}, Bias : {}\".format(i+1,loss,NAND.weights,NAND.bias))"
      ],
      "execution_count": 12,
      "outputs": [
        {
          "output_type": "stream",
          "name": "stdout",
          "text": [
            "Epoch : 100, Cost : 0.7911738653764443, weights : [-0.48972722 -1.25798774], Bias : [1.74566135]\n",
            "Epoch : 200, Cost : 0.5430490957875922, weights : [-1.51545093 -1.80261804], Bias : [2.79151756]\n",
            "Epoch : 300, Cost : 0.42125913027366896, weights : [-2.14614496 -2.26642639], Bias : [3.56506179]\n",
            "Epoch : 400, Cost : 0.3456117101528016, weights : [-2.607325   -2.66303355], Bias : [4.18521187]\n",
            "Epoch : 500, Cost : 0.293129860518541, weights : [-2.97696333 -3.00501941], Bias : [4.70528682]\n",
            "Epoch : 600, Cost : 0.2543396786003746, weights : [-3.28850585 -3.30365261], Bias : [5.1539571]\n",
            "Epoch : 700, Cost : 0.22443918596780807, weights : [-3.55912171 -3.56778782], Bias : [5.54869527]\n",
            "Epoch : 800, Cost : 0.20067626330797955, weights : [-3.7989077  -3.80411461], Bias : [5.90108417]\n",
            "Epoch : 900, Cost : 0.1813412551760061, weights : [-4.01441395 -4.01767547], Bias : [6.21926514]\n",
            "Epoch : 1000, Cost : 0.16530944081725432, weights : [-4.21019696 -4.21231432], Bias : [6.50920952]\n"
          ]
        }
      ]
    },
    {
      "cell_type": "markdown",
      "metadata": {
        "id": "jR-rHaTU0Mga"
      },
      "source": [
        "#### 테스트"
      ]
    },
    {
      "cell_type": "code",
      "metadata": {
        "id": "WpzKW6sm0Ghp",
        "colab": {
          "base_uri": "https://localhost:8080/"
        },
        "outputId": "3f269684-71f4-4f41-e26b-ad52f47538d2"
      },
      "source": [
        "print(NAND.predict(X))"
      ],
      "execution_count": 13,
      "outputs": [
        {
          "output_type": "stream",
          "name": "stdout",
          "text": [
            "[[0.99851256]\n",
            " [0.90861957]\n",
            " [0.90879523]\n",
            " [0.12861037]]\n"
          ]
        }
      ]
    },
    {
      "cell_type": "markdown",
      "metadata": {
        "id": "NiTWfSQ60Zl2"
      },
      "source": [
        "### XOR Gate"
      ]
    },
    {
      "cell_type": "markdown",
      "metadata": {
        "id": "hmmL0VIu0bXq"
      },
      "source": [
        "#### 모델 생성 및 학습"
      ]
    },
    {
      "cell_type": "code",
      "metadata": {
        "id": "0CGm0r1M0a9M",
        "colab": {
          "base_uri": "https://localhost:8080/"
        },
        "outputId": "f68cca4e-c9fc-4d08-847f-7e44c8746317"
      },
      "source": [
        "XOR = LogicGateNet()\n",
        "X = np.array([[0,0],[0,1],[1,0],[1,1]])\n",
        "Y_2 = np.array([[0],[1],[1],[0]])\n",
        "\n",
        "train_loss_list = list()\n",
        "\n",
        "for i in range(epochs):\n",
        "  grad_W, grad_B = XOR.get_gradient(X,Y_2)\n",
        "\n",
        "  XOR.weights -= lr * grad_W\n",
        "  XOR.bias -= lr * grad_B\n",
        "\n",
        "  loss = XOR.loss(X,Y_2)\n",
        "  train_loss_list.append(loss)\n",
        "\n",
        "  if i % 100 == 99:\n",
        "    print(\"Epoch : {}, Cost : {}, weights : {}, Bias : {}\".format(i+1,loss,XOR.weights,XOR.bias))"
      ],
      "execution_count": 21,
      "outputs": [
        {
          "output_type": "stream",
          "name": "stdout",
          "text": [
            "Epoch : 100, Cost : 1.402685224545991, weights : [ 0.47012771 -0.19931523], Bias : [-0.16097708]\n",
            "Epoch : 200, Cost : 1.3879445622846385, weights : [ 0.1572739  -0.03387161], Bias : [-0.07321056]\n",
            "Epoch : 300, Cost : 1.386492030048373, weights : [0.05525161 0.00089673], Bias : [-0.03330094]\n",
            "Epoch : 400, Cost : 1.3863236205351996, weights : [0.02049628 0.00504503], Bias : [-0.01514784]\n",
            "Epoch : 500, Cost : 1.386299474364679, weights : [0.0080051  0.00361297], Bias : [-0.00689034]\n",
            "Epoch : 600, Cost : 1.3862953430687444, weights : [0.00326661 0.00201812], Bias : [-0.00313421]\n",
            "Epoch : 700, Cost : 1.3862945581495083, weights : [0.00137938 0.00102449], Bias : [-0.00142566]\n",
            "Epoch : 800, Cost : 1.38629440139037, weights : [0.00059716 0.00049628], Bias : [-0.00064849]\n",
            "Epoch : 900, Cost : 1.3862943694120307, weights : [0.00026303 0.00023435], Bias : [-0.00029498]\n",
            "Epoch : 1000, Cost : 1.386294362832352, weights : [0.0001172  0.00010905], Bias : [-0.00013418]\n"
          ]
        }
      ]
    },
    {
      "cell_type": "markdown",
      "metadata": {
        "id": "Cy-ktElI0o5P"
      },
      "source": [
        "#### 테스트"
      ]
    },
    {
      "cell_type": "code",
      "metadata": {
        "id": "GWAJAJ_T0oqm",
        "colab": {
          "base_uri": "https://localhost:8080/"
        },
        "outputId": "313459ff-7c8b-4fd2-dd3e-b4c48dd6ddc0"
      },
      "source": [
        "print(XOR.predict(X))"
      ],
      "execution_count": 22,
      "outputs": [
        {
          "output_type": "stream",
          "name": "stdout",
          "text": [
            "[[0.49996646]\n",
            " [0.49999372]\n",
            " [0.49999575]\n",
            " [0.50002302]]\n"
          ]
        }
      ]
    },
    {
      "cell_type": "markdown",
      "metadata": {
        "id": "VAlq_-6E1nIq"
      },
      "source": [
        "#### 2층 신경망으로 XOR 게이트 구현(1)\n",
        "\n",
        "- 얕은 신경망, Shallow Neural Network\n",
        "\n",
        "- 두 논리게이트(NAND, OR)를 통과하고  \n",
        "  AND 게이트로 합쳐서 구현\n",
        "\n",
        "- 06 신경망 구조 참고"
      ]
    },
    {
      "cell_type": "code",
      "metadata": {
        "id": "mr7nYMG20jTo"
      },
      "source": [
        "X = np.array([[0,0],[0,1],[1,0],[1,1]])\n",
        "Y_5 = np.array([[0],[1],[1],[0]])\n",
        "\n",
        "s1 = NAND.predict(X)\n",
        "s2 = OR.predict(X)\n",
        "X_2 = np.array([s1,s2]).T.reshape(-1,2)"
      ],
      "execution_count": 23,
      "outputs": []
    },
    {
      "cell_type": "markdown",
      "metadata": {
        "id": "nkTDx8Ah1xHY"
      },
      "source": [
        "#### 테스트"
      ]
    },
    {
      "cell_type": "code",
      "metadata": {
        "id": "LK2iD5A91yWQ",
        "colab": {
          "base_uri": "https://localhost:8080/"
        },
        "outputId": "45a13731-0ada-4a05-a56f-3337d67b130d"
      },
      "source": [
        "print(AND.predict(X_2))"
      ],
      "execution_count": 24,
      "outputs": [
        {
          "output_type": "stream",
          "name": "stdout",
          "text": [
            "[[0.12870357]\n",
            " [0.79966936]\n",
            " [0.80108545]\n",
            " [0.14420781]]\n"
          ]
        }
      ]
    },
    {
      "cell_type": "markdown",
      "metadata": {
        "id": "i-SK4G262Agn"
      },
      "source": [
        "#### 2층 신경망으로 XOR 게이트 구현(2)\n",
        "- 클래스로 구현"
      ]
    },
    {
      "cell_type": "code",
      "metadata": {
        "id": "8RpnHCRZ1zwr"
      },
      "source": [
        "class XORNet():\n",
        "\n",
        "  def __init__(self):\n",
        "    np.random.seed(1)\n",
        "\n",
        "    def weight_init():\n",
        "      params = {}\n",
        "      params['w_1'] = np.random.randn(2)\n",
        "      params['b_1'] = np.random.rand(2)\n",
        "      params['w_2'] = np.random.randn(2)\n",
        "      params['b_2'] = np.random.rand(1)\n",
        "\n",
        "      return params\n",
        "    \n",
        "    self.params = weight_init()\n",
        "  \n",
        "  def predict(self,x):\n",
        "    W_1,W_2 = self.params['w_1'].reshape(-1,1), self.params['w_2'].reshape(-1,1)\n",
        "    B_1,B_2 = self.params['b_1'], self.params['b_2']\n",
        "\n",
        "    A1 = np.dot(x,W_1) + B_1\n",
        "    Z1 = sigmoid(A1)\n",
        "    A2 = np.dot(Z1,W_2) + B_2\n",
        "    pred_y = sigmoid(A2)\n",
        "\n",
        "    return pred_y\n",
        "\n",
        "  def loss(self,x,true_y):\n",
        "    pred_y = self.predict(x)\n",
        "    return cross_entropy_error_for_bin(pred_y,true_y)\n",
        "\n",
        "  def get_gradient(self,x,t):\n",
        "\n",
        "    def loss_grad(grad):\n",
        "      return self.loss(x,t)\n",
        "\n",
        "    grads = {}\n",
        "    grads['w_1'] = differential(loss_grad,self.params['w_1'])\n",
        "    grads['b_1'] = differential(loss_grad,self.params['b_1'])\n",
        "    grads['w_2'] = differential(loss_grad,self.params['w_2'])\n",
        "    grads['b_2'] = differential(loss_grad,self.params['b_2'])\n",
        "\n",
        "    return grads"
      ],
      "execution_count": 40,
      "outputs": []
    },
    {
      "cell_type": "markdown",
      "metadata": {
        "id": "lplK_x0l2YLh"
      },
      "source": [
        "#### 하이퍼 파라미터(Hyper Parameter)\n",
        "- 재조정"
      ]
    },
    {
      "cell_type": "code",
      "metadata": {
        "id": "qf-3wWSv2b7l"
      },
      "source": [
        "lr = 0.3"
      ],
      "execution_count": 27,
      "outputs": []
    },
    {
      "cell_type": "markdown",
      "metadata": {
        "id": "lmHKd45d2JbJ"
      },
      "source": [
        "#### 모델 생성 및 학습"
      ]
    },
    {
      "cell_type": "code",
      "metadata": {
        "id": "cQNd3XVd2Gj7",
        "colab": {
          "base_uri": "https://localhost:8080/"
        },
        "outputId": "8c53883a-d957-4016-8309-846aafa81423"
      },
      "source": [
        "XOR = XORNet()\n",
        "X = np.array([[0,0],[0,1],[1,0],[1,1]])\n",
        "Y_5 = np.array([[0],[1],[1],[0]])\n",
        "\n",
        "train_loss_list = list()\n",
        "\n",
        "for i in range(epochs):\n",
        "  grads = XOR.get_gradient(X,Y_5)\n",
        "\n",
        "  for key in ('w_1','b_1','w_2','b_2'):\n",
        "    XOR.params[key] -= lr * grads[key]\n",
        "\n",
        "  loss = XOR.loss(X,Y_5)\n",
        "  train_loss_list.append(loss)\n",
        "\n",
        "  if i%100 == 99:\n",
        "    print(\"Epoch :{}, Cost: {}\".format(i+1,loss))"
      ],
      "execution_count": 42,
      "outputs": [
        {
          "output_type": "stream",
          "name": "stdout",
          "text": [
            "Epoch :100, Cost: 1.353561444245376\n",
            "Epoch :200, Cost: 1.2827154568291983\n",
            "Epoch :300, Cost: 0.8968907892231803\n",
            "Epoch :400, Cost: 0.338719714121707\n",
            "Epoch :500, Cost: 0.18121344476204979\n",
            "Epoch :600, Cost: 0.11991186457349581\n",
            "Epoch :700, Cost: 0.08861936864730534\n",
            "Epoch :800, Cost: 0.0699218065308316\n",
            "Epoch :900, Cost: 0.05758041353096763\n",
            "Epoch :1000, Cost: 0.0488609356844432\n"
          ]
        }
      ]
    },
    {
      "cell_type": "markdown",
      "metadata": {
        "id": "IIV_GsoG2eDs"
      },
      "source": [
        "#### 테스트"
      ]
    },
    {
      "cell_type": "code",
      "metadata": {
        "id": "Dpr0nZhc2Szr",
        "colab": {
          "base_uri": "https://localhost:8080/"
        },
        "outputId": "b0e4b361-33a9-409c-edc6-3bdd728fb995"
      },
      "source": [
        "print(XOR.predict(X))"
      ],
      "execution_count": 43,
      "outputs": [
        {
          "output_type": "stream",
          "name": "stdout",
          "text": [
            "[[0.0217367 ]\n",
            " [0.96884394]\n",
            " [0.97816819]\n",
            " [0.0217794 ]]\n"
          ]
        }
      ]
    },
    {
      "cell_type": "markdown",
      "metadata": {
        "id": "_1IuDL8R7wrx"
      },
      "source": [
        "## 다중 클래스 분류 : MNIST Dataset"
      ]
    },
    {
      "cell_type": "markdown",
      "metadata": {
        "id": "9CiJ5Gmq9Wpa"
      },
      "source": [
        "### 배치 처리\n",
        "- 학습 데이터 전체를 한번에 진행하지 않고  \n",
        "  일부 데이터(샘플)을 확률적으로 구해서 조금씩 나누어 진행\n",
        "\n",
        "- 확률적 경사 하강법(Stochastic Gradient Descent) 또는  \n",
        "  미니 배치 학습법(mini-batch learning)이라고도 부름"
      ]
    },
    {
      "cell_type": "markdown",
      "metadata": {
        "id": "YUDNWwj49byH"
      },
      "source": [
        "#### 신경망 구현 : MNIST "
      ]
    },
    {
      "cell_type": "markdown",
      "metadata": {
        "id": "WjBRQYlP74GM"
      },
      "source": [
        "#### 필요한 모듈 임포트"
      ]
    },
    {
      "cell_type": "code",
      "metadata": {
        "id": "h0lJbkuW71lm"
      },
      "source": [
        "import numpy as np\n",
        "import matplotlib.pyplot as plt\n",
        "import tensorflow as tf\n",
        "import time\n",
        "from tqdm.notebook import tqdm"
      ],
      "execution_count": 44,
      "outputs": []
    },
    {
      "cell_type": "markdown",
      "metadata": {
        "id": "MDvtEiD77_gu"
      },
      "source": [
        "#### 데이터 로드"
      ]
    },
    {
      "cell_type": "code",
      "metadata": {
        "id": "4WL7zXMl_uo9"
      },
      "source": [
        "mnist = tf.keras.datasets.mnist\n",
        "\n",
        "(x_train, y_train),(x_test,y_test) = mnist.load_data()"
      ],
      "execution_count": 47,
      "outputs": []
    },
    {
      "cell_type": "markdown",
      "metadata": {
        "id": "e_rNg5Jn8FRA"
      },
      "source": [
        "#### 데이터 확인"
      ]
    },
    {
      "cell_type": "code",
      "metadata": {
        "id": "u4wpsQGA8BOO",
        "colab": {
          "base_uri": "https://localhost:8080/"
        },
        "outputId": "611e7713-4548-4062-aea0-4def41d5111d"
      },
      "source": [
        "print(x_train.shape)\n",
        "print(y_train.shape)\n",
        "\n",
        "print(x_test.shape)\n",
        "print(x_test.shape)"
      ],
      "execution_count": 48,
      "outputs": [
        {
          "output_type": "stream",
          "name": "stdout",
          "text": [
            "(60000, 28, 28)\n",
            "(60000,)\n",
            "(10000, 28, 28)\n",
            "(10000, 28, 28)\n"
          ]
        }
      ]
    },
    {
      "cell_type": "code",
      "metadata": {
        "id": "pU7nvkHO8IFR",
        "colab": {
          "base_uri": "https://localhost:8080/",
          "height": 280
        },
        "outputId": "087666b3-d0db-4afa-b62f-6d6f8ccb4d92"
      },
      "source": [
        "img = x_train[0]\n",
        "print(img.shape)\n",
        "\n",
        "plt.imshow(img,cmap='gray')\n",
        "plt.show()"
      ],
      "execution_count": 49,
      "outputs": [
        {
          "output_type": "stream",
          "name": "stdout",
          "text": [
            "(28, 28)\n"
          ]
        },
        {
          "output_type": "display_data",
          "data": {
            "image/png": "[encoded data removed]",
            "text/plain": [
              "<Figure size 432x288 with 1 Axes>"
            ]
          },
          "metadata": {
            "needs_background": "light"
          }
        }
      ]
    },
    {
      "cell_type": "code",
      "metadata": {
        "id": "WbBA1Kl18KGT",
        "colab": {
          "base_uri": "https://localhost:8080/"
        },
        "outputId": "52ccde4d-26ee-453d-d404-a61d0dca8234"
      },
      "source": [
        "y_train[0]"
      ],
      "execution_count": 50,
      "outputs": [
        {
          "output_type": "execute_result",
          "data": {
            "text/plain": [
              "5"
            ]
          },
          "metadata": {},
          "execution_count": 50
        }
      ]
    },
    {
      "cell_type": "markdown",
      "metadata": {
        "id": "MTFu8i-z8U_C"
      },
      "source": [
        "#### 데이터 전처리 (Data Preprocessing)"
      ]
    },
    {
      "cell_type": "code",
      "metadata": {
        "id": "q76pjKDVftHJ"
      },
      "source": [
        "def flatten_for_mnist(x):\n",
        "  temp = np.zeros((x.shape[0],x[0].size))\n",
        "\n",
        "  for idx,data in enumerate(x):\n",
        "    temp[idx,:] = data.flatten()\n",
        "\n",
        "  return temp"
      ],
      "execution_count": 53,
      "outputs": []
    },
    {
      "cell_type": "code",
      "metadata": {
        "id": "vvMWrDOR8Mns",
        "colab": {
          "base_uri": "https://localhost:8080/"
        },
        "outputId": "1f33d061-7958-4ecf-a42c-79fad2e997b6"
      },
      "source": [
        "x_train, x_test = x_train / 255.0 , x_test/255.0\n",
        "\n",
        "x_train = flatten_for_mnist(x_train)\n",
        "x_test = flatten_for_mnist(x_test)\n",
        "\n",
        "print(x_train.shape)\n",
        "print(x_test.shape)\n",
        "\n",
        "y_train_ohe = tf.one_hot(y_train,depth=10).numpy()\n",
        "y_test_ohe = tf.one_hot(y_test,depth=10).numpy()\n",
        "\n",
        "print(y_train_ohe.shape)\n",
        "print(y_test_ohe.shape)"
      ],
      "execution_count": 56,
      "outputs": [
        {
          "output_type": "stream",
          "name": "stdout",
          "text": [
            "(60000, 784)\n",
            "(10000, 784)\n",
            "(60000, 10)\n",
            "(10000, 10)\n"
          ]
        }
      ]
    },
    {
      "cell_type": "code",
      "metadata": {
        "id": "9LjpWz0dotJs",
        "colab": {
          "base_uri": "https://localhost:8080/"
        },
        "outputId": "9f47ff45-4e8e-4550-ff84-6b4e206af7eb"
      },
      "source": [
        "print(x_train[0].max(),x_train[0].min())\n",
        "print(y_train_ohe[0])"
      ],
      "execution_count": 59,
      "outputs": [
        {
          "output_type": "stream",
          "name": "stdout",
          "text": [
            "6.030862941101084e-08 0.0\n",
            "[0. 0. 0. 0. 0. 1. 0. 0. 0. 0.]\n"
          ]
        }
      ]
    },
    {
      "cell_type": "markdown",
      "metadata": {
        "id": "5GUaa92Y9RhY"
      },
      "source": [
        "#### 하이퍼 파라미터(Hyper Parameter)"
      ]
    },
    {
      "cell_type": "code",
      "metadata": {
        "id": "sk3FXXLi9Th5"
      },
      "source": [
        "epochs = 2\n",
        "lr = 0.1\n",
        "batch_size = 100\n",
        "train_size = x_train.shape[0]"
      ],
      "execution_count": 67,
      "outputs": []
    },
    {
      "cell_type": "markdown",
      "metadata": {
        "id": "5lMJ0h8p8iZl"
      },
      "source": [
        "#### 사용되는 함수들(Util Functions)"
      ]
    },
    {
      "cell_type": "code",
      "metadata": {
        "id": "bSlqZ2Xx8hFn"
      },
      "source": [
        "def sigmoid(x):\n",
        "  return 1/(1+np.exp(-x))\n",
        "\n",
        "def mean_squared_error(pred_y,true_y):\n",
        "  return 0.5 * (np.sum((true_y - pred_y)**2))\n",
        "\n",
        "def cross_entropy_error(pred_y,true_y):\n",
        "  if true_y.ndim==1:\n",
        "    true_y = true_y.reshape(1,-1)\n",
        "    pred_y = pred_y.reshape(1,-1)\n",
        "  \n",
        "  delta = 1e-7\n",
        "  return -np.sum(true_y + np.log(pred_y + delta))\n",
        "\n",
        "def cross_entropy_error_for_batch(pred_y,true_y):\n",
        "  if true_y.ndim==1:\n",
        "    true_y = true_y.reshape(1,-1)\n",
        "    pred_y = pred_y.reshape(1,-1)\n",
        "  \n",
        "  delta = 1e-7\n",
        "  batch_size = pred_y.shape[0]\n",
        "  return -np.sum(true_y + np.log(pred_y + delta))\n",
        "\n",
        "def cross_entropy_error_for_bin(pred_y,true_y):\n",
        "  return 0.5 * np.sum((-true_y * np.log(pred_y) - (1-true_y) * np.log(1-pred_y)))\n",
        "\n",
        "def softmax(a):\n",
        "  exp_a = np.exp(a)\n",
        "  sum_exp_a = np.sum(exp_a)\n",
        "  y = exp_a / sum_exp_a\n",
        "\n",
        "  return y\n",
        "\n",
        "def differential_1d(f,x):#1차원 일때\n",
        "  \n",
        "  eps = 1e-5\n",
        "  diff_value = np.zeros_like(x)\n",
        "\n",
        "  for i in range(x.shape[0]):\n",
        "    temp_val = x[i]\n",
        "\n",
        "    x[i] = temp_val + eps\n",
        "    f_h1 = f(x)\n",
        "\n",
        "    x[i] = temp_val - eps\n",
        "    f_h2 = f(x)\n",
        "\n",
        "    diff_value[i] = (f_h1-f_h2) / (2*eps)\n",
        "    x[i] = temp_val\n",
        "\n",
        "  return diff_value\n",
        "\n",
        "def differential_2d(f,X):\n",
        "  if X.ndim == 1:\n",
        "    return differential_1d(f,X)\n",
        "  else:\n",
        "    grad  = np.zeros_like(X)\n",
        "\n",
        "    for idx, x in enumerate(X):\n",
        "      grad[idx] = differential_1d(f,x)\n",
        "    \n",
        "    return grad"
      ],
      "execution_count": 68,
      "outputs": []
    },
    {
      "cell_type": "markdown",
      "metadata": {
        "id": "sSoV9fyj8_u7"
      },
      "source": [
        "#### 2층 신경망으로 구현"
      ]
    },
    {
      "cell_type": "code",
      "metadata": {
        "id": "XBObD5Fw89HI"
      },
      "source": [
        "class MyModel():\n",
        "\n",
        "  def __init__(self):\n",
        "\n",
        "    def weight_init(input_nodes,hidden_nodes,output_units):\n",
        "      np.random.seed(777)\n",
        "\n",
        "      params = {}\n",
        "      params['w_1'] = 0.01 * np.random.randn(input_nodes,hidden_nodes)\n",
        "      params['b_1'] = np.zeros(hidden_nodes)\n",
        "      params['w_2'] = 0.01 * np.random.randn(hidden_nodes,output_units)\n",
        "      params['b_2'] = np.zeros(output_units)\n",
        "\n",
        "      return params\n",
        "    \n",
        "    self.params = weight_init(784,64,10)\n",
        "  \n",
        "  def predict(self,x):\n",
        "    W_1,W_2 = self.params['w_1'], self.params['w_2']\n",
        "    B_1,B_2 = self.params['b_1'], self.params['b_2']\n",
        "\n",
        "    A1 = np.dot(x,W_1) + B_1\n",
        "    Z1 = sigmoid(A1)\n",
        "\n",
        "    A2 = np.dot(Z1,W_2) + B_2\n",
        "    pred_y = softmax(A2)\n",
        "\n",
        "    return pred_y\n",
        "\n",
        "  def loss(self,x,true_y):\n",
        "    pred_y = self.predict(x)\n",
        "    return cross_entropy_error_for_bin(pred_y,true_y)\n",
        "  \n",
        "  def accuracy(self,x,true_y):\n",
        "    pred_y = self.predict(x)\n",
        "    y_argmax = np.argmax(pred_y,axis=1)\n",
        "    t_argmax = np.argmax(true_y,axis=1)\n",
        "\n",
        "    accuracy = np.sum(y_argmax == t_argmax) / float(x.shape[0])\n",
        "\n",
        "    return accuracy\n",
        "\n",
        "  def get_gradient(self,x,t):\n",
        "\n",
        "    def loss_grad(grad):\n",
        "      return self.loss(x,t)\n",
        "\n",
        "    grads = {}\n",
        "    grads['w_1'] = differential_2d(loss_grad,self.params['w_1'])\n",
        "    grads['b_1'] = differential_2d(loss_grad,self.params['b_1'])\n",
        "    grads['w_2'] = differential_2d(loss_grad,self.params['w_2'])\n",
        "    grads['b_2'] = differential_2d(loss_grad,self.params['b_2'])\n",
        "\n",
        "    return grads"
      ],
      "execution_count": 69,
      "outputs": []
    },
    {
      "cell_type": "markdown",
      "metadata": {
        "id": "maKNIlK-xJ5k"
      },
      "source": [
        "#### 모델 생성 및 학습\n",
        "- 시간 많이 소요"
      ]
    },
    {
      "cell_type": "code",
      "metadata": {
        "id": "XSEARgNIop8t",
        "colab": {
          "base_uri": "https://localhost:8080/",
          "height": 104,
          "referenced_widgets": [
            "da0577a2716d4483b29d6538ff1075f0",
            "6e1ee858122548aebc1251eedb13f292",
            "71e76aa4692d445999b194436f35cd70",
            "94fc8780e8ae4317b871f2ae32172d7f",
            "a1442df6ad34466599e0b426902b032b",
            "960a894e5aae473d826a0a90f5432e8a",
            "f47005ef06eb4bc8bf22500df0487861",
            "99d74eda7e1344098326f3ca61e3758c",
            "4bbf5a0ec44644a0a9cdfd558a8e630b",
            "f47c8fa126d846bf834c078cd40fd688",
            "fa28e414289a4541984f248f6b17639e"
          ]
        },
        "outputId": "1e14d8f9-005c-47e4-81ab-309256f02d7b"
      },
      "source": [
        "model = MyModel()\n",
        "\n",
        "train_loss_list = list()\n",
        "train_acc_list = list()\n",
        "test_acc_list = list()\n",
        "iter_per_epoch = max(train_size / batch_size,1)\n",
        "\n",
        "start_time = time.time()\n",
        "for i in tqdm(range(epochs)):\n",
        "\n",
        "  batch_idx = np.random.choice(train_size,batch_size)\n",
        "  x_batch = x_train[batch_idx]\n",
        "  y_batch = y_train_ohe[batch_idx]\n",
        "\n",
        "  grads = model.get_gradient(x_batch,y_batch)\n",
        "\n",
        "  for key in grads.keys():\n",
        "    model.params[key] -= lr * grads[key]\n",
        "\n",
        "  loss = model.loss(x_batch,y_batch)\n",
        "  train_loss_list.append(loss)\n",
        "  \n",
        "  train_accuracy = model.accuracy(x_train,y_train_ohe)\n",
        "  test_accuracy = model.accuracy(x_test,y_test_ohe)\n",
        "  train_acc_list.append(train_accuracy)\n",
        "  test_acc_list.append(test_accuracy)\n",
        "\n",
        "  print(\"Epoch : {}, Cost: {}, Train Accuracy : {} , Test Accuracy : {}\".format(i+1,loss,train_accuracy,test_accuracy))\n",
        "\n",
        "end_time = time.time()\n",
        "\n",
        "print(\"총 학습 소요시간 :{}\".format(end_time - start_time))"
      ],
      "execution_count": 71,
      "outputs": [
        {
          "output_type": "display_data",
          "data": {
            "application/vnd.jupyter.widget-view+json": {
              "model_id": "da0577a2716d4483b29d6538ff1075f0",
              "version_minor": 0,
              "version_major": 2
            },
            "text/plain": [
              "  0%|          | 0/2 [00:00<?, ?it/s]"
            ]
          },
          "metadata": {}
        },
        {
          "output_type": "stream",
          "name": "stdout",
          "text": [
            "Epoch : 1, Cost: 467.1932925134994, Train Accuracy : 0.10441666666666667 , Test Accuracy : 0.1028\n",
            "Epoch : 2, Cost: 752.8216566431992, Train Accuracy : 0.09751666666666667 , Test Accuracy : 0.0974\n",
            "총 학습 소요시간 :200.62235498428345\n"
          ]
        }
      ]
    },
    {
      "cell_type": "markdown",
      "metadata": {
        "id": "b7nL8f20x4zl"
      },
      "source": [
        "### 모델의 결과\n",
        "- 모델은 학습이 잘 될 수도, 잘 안될 수도 있음\n",
        "\n",
        "- 만약, 학습이 잘 되지 않았다면,  \n",
        "  학습이 잘 되기 위해서 어떠한 조치를 취해야 하는가?\n",
        "  - 다양한 학습관련 기술이 존재"
      ]
    }
  ]
}